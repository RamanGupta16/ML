{
  "nbformat": 4,
  "nbformat_minor": 0,
  "metadata": {
    "colab": {
      "name": "Session4_2nd_DNN.ipynb",
      "version": "0.3.2",
      "provenance": [],
      "include_colab_link": true
    },
    "kernelspec": {
      "name": "python3",
      "display_name": "Python 3"
    },
    "accelerator": "GPU"
  },
  "cells": [
    {
      "cell_type": "markdown",
      "metadata": {
        "id": "view-in-github",
        "colab_type": "text"
      },
      "source": [
        "<a href=\"https://colab.research.google.com/github/RamanGupta16/ML/blob/master/EVA_Ph1/Session4/Session4_2nd_DNN.ipynb\" target=\"_parent\"><img src=\"https://colab.research.google.com/assets/colab-badge.svg\" alt=\"Open In Colab\"/></a>"
      ]
    },
    {
      "cell_type": "code",
      "metadata": {
        "id": "OyB6Xxhdj1Pn",
        "colab_type": "code",
        "colab": {}
      },
      "source": [
        "# Session4 2nd DNN\n",
        "# Modification on top of 1st DNN \n",
        "# 1. Increased epochs to 20\n",
        "# 2. Increased batch size to 128\n",
        "\n",
        "# Reduced parameters to 19,042\n",
        "\n",
        "# RESULTS SUMMARY\n",
        "# Parameters: 19,042\n",
        "# 99.26 best validation accuracy in epoch 7"
      ],
      "execution_count": 0,
      "outputs": []
    },
    {
      "cell_type": "code",
      "metadata": {
        "id": "MW3CDKhYkfJS",
        "colab_type": "code",
        "colab": {}
      },
      "source": [
        "# Comments:\n",
        "# Install keras onto colab VM \n",
        "# Import numpy package\n",
        "# Import keras models, layers, convolution, dropout\n",
        "# Import MNIST dataset\n",
        "#\n",
        "\n",
        "# https://keras.io/\n",
        "!pip install -q keras\n",
        "\n",
        "import keras\n",
        "import numpy as np\n",
        "\n",
        "from keras.models import Sequential\n",
        "from keras.layers import Dense, Dropout, Activation, Flatten, Add\n",
        "from keras.layers import Convolution2D, MaxPooling2D\n",
        "from keras.utils import np_utils\n",
        "\n",
        "from keras.datasets import mnist"
      ],
      "execution_count": 0,
      "outputs": []
    },
    {
      "cell_type": "code",
      "metadata": {
        "id": "pncLjzv1kb5f",
        "colab_type": "code",
        "outputId": "437cecd6-5e20-4165-ee8c-31be0eefa269",
        "colab": {
          "base_uri": "https://localhost:8080/",
          "height": 303
        }
      },
      "source": [
        "# Comments:\n",
        "# 1. Load MNIST dataset. It loads both Training and Test datasets\n",
        "# 2. Training set has 60,000 image samples. X_train are images and y_train is label of images\n",
        "# 3. Test set of 10,000 image samples. y_test are images and y_train is label of images\n",
        "# \n",
        "\n",
        "(X_train, y_train), (X_test, y_test) = mnist.load_data()\n",
        "\n",
        "# Comments:\n",
        "# 1. Training set has 60,000 image samples of size 28x28 pixels\n",
        "# 2. Show '5' hand written digit image\n",
        "#\n",
        "print (X_train.shape)\n",
        "from matplotlib import pyplot as plt\n",
        "%matplotlib inline\n",
        "plt.imshow(X_train[0])"
      ],
      "execution_count": 24,
      "outputs": [
        {
          "output_type": "stream",
          "text": [
            "(60000, 28, 28)\n"
          ],
          "name": "stdout"
        },
        {
          "output_type": "execute_result",
          "data": {
            "text/plain": [
              "<matplotlib.image.AxesImage at 0x7f1be9d139e8>"
            ]
          },
          "metadata": {
            "tags": []
          },
          "execution_count": 24
        },
        {
          "output_type": "display_data",
          "data": {
            "image/png": "[encoded data removed]",
            "text/plain": [
              "<Figure size 432x288 with 1 Axes>"
            ]
          },
          "metadata": {
            "tags": []
          }
        }
      ]
    },
    {
      "cell_type": "code",
      "metadata": {
        "id": "oSgzrXqQk_Yq",
        "colab_type": "code",
        "colab": {}
      },
      "source": [
        "# Comments:\n",
        "# 1. Reshape the 60,000 training data with channel dimenison as 1. So each image is 28x28x1 dimension\n",
        "# 2. Reshape the 10,000 test data with channel dimenison as 1. So each image is 28x28x1 dimension\n",
        "#\n",
        "\n",
        "X_train = X_train.reshape(X_train.shape[0], 28, 28,1)\n",
        "X_test = X_test.reshape(X_test.shape[0], 28, 28,1)\n",
        "\n",
        "# Comments:\n",
        "# 1. Divide training data by 255 so that pixels become float values betwee 0..1\n",
        "# 2. Divide test data by 255 so that pixels become float values betwee 0..1\n",
        "#\n",
        "\n",
        "X_train = X_train.astype('float32')\n",
        "X_test = X_test.astype('float32')\n",
        "X_train /= 255\n",
        "X_test /= 255"
      ],
      "execution_count": 0,
      "outputs": []
    },
    {
      "cell_type": "code",
      "metadata": {
        "id": "Rcbh2lSGlaix",
        "colab_type": "code",
        "outputId": "c5a92ae2-564e-4ce5-a051-aebe12fd1a77",
        "colab": {
          "base_uri": "https://localhost:8080/",
          "height": 187
        }
      },
      "source": [
        "# Comments:\n",
        "# 1. Print the first 10 labels of training data\n",
        "#\n",
        "y_train[:10]\n",
        "\n",
        "# Comments:\n",
        "# 1. Convert 1-dimensional train and test labels into one-hot vector of floats\n",
        "#    where only 1 value in vector is high(hot) indicating the label of image.\n",
        "#    Eaxmple [0., 0., 0., 0., 0., 1., 0., 0., 0., 0.] ==> 5\n",
        "\n",
        "# Convert 1-dimensional class arrays to 10-dimensional class matrices\n",
        "Y_train = np_utils.to_categorical(y_train, 10)\n",
        "Y_test = np_utils.to_categorical(y_test, 10)\n",
        "\n",
        "# Comments:\n",
        "# 1. Print the first 10 training label as one-hot vectors.\n",
        "#    Eaxmple [0., 0., 0., 0., 0., 1., 0., 0., 0., 0.] ==> 5\n",
        "\n",
        "Y_train[:10]"
      ],
      "execution_count": 26,
      "outputs": [
        {
          "output_type": "execute_result",
          "data": {
            "text/plain": [
              "array([[0., 0., 0., 0., 0., 1., 0., 0., 0., 0.],\n",
              "       [1., 0., 0., 0., 0., 0., 0., 0., 0., 0.],\n",
              "       [0., 0., 0., 0., 1., 0., 0., 0., 0., 0.],\n",
              "       [0., 1., 0., 0., 0., 0., 0., 0., 0., 0.],\n",
              "       [0., 0., 0., 0., 0., 0., 0., 0., 0., 1.],\n",
              "       [0., 0., 1., 0., 0., 0., 0., 0., 0., 0.],\n",
              "       [0., 1., 0., 0., 0., 0., 0., 0., 0., 0.],\n",
              "       [0., 0., 0., 1., 0., 0., 0., 0., 0., 0.],\n",
              "       [0., 1., 0., 0., 0., 0., 0., 0., 0., 0.],\n",
              "       [0., 0., 0., 0., 1., 0., 0., 0., 0., 0.]], dtype=float32)"
            ]
          },
          "metadata": {
            "tags": []
          },
          "execution_count": 26
        }
      ]
    },
    {
      "cell_type": "code",
      "metadata": {
        "id": "8IcBwNRenE-X",
        "colab_type": "code",
        "outputId": "724cf832-e434-4e33-a0cc-15ba7e1c3f21",
        "colab": {
          "base_uri": "https://localhost:8080/",
          "height": 870
        }
      },
      "source": [
        "# Comments:\n",
        "# 1. Create the model\n",
        "# 2. Add convolution Layers\n",
        "\n",
        "\n",
        "from keras.layers import Activation\n",
        "model = Sequential()\n",
        "\n",
        "model.add(Convolution2D(8, 3, 3, activation='relu', input_shape=(28,28,1))) # 26x26x16, 3x3\n",
        "model.add(Convolution2D(16, 3, 3, activation='relu')) #  24x24x32, 5x5\n",
        "model.add(Convolution2D(32, 3, 3, activation='relu')) #  22x22x128, 7x7\n",
        "\n",
        "\n",
        "model.add(MaxPooling2D(pool_size=(2, 2))) # 11x11x128, 14x14\n",
        "model.add(Convolution2D(8, 1, 1, activation='relu')) # 11x11x32, 14x14\n",
        "\n",
        "\n",
        "model.add(Convolution2D(16, 3, 3, activation='relu')) # 9x9x64, 16x16\n",
        "model.add(Convolution2D(32, 3, 3, activation='relu')) # 7x7x128, 18x18\n",
        "\n",
        "model.add(Convolution2D(8, 1, 1, activation='relu')) # 7x7x32, 18x18\n",
        "\n",
        "model.add(Convolution2D(16, 3, 3, activation='relu')) # 5x5, 20x20\n",
        "model.add(Convolution2D(24, 3, 3, activation='relu')) # 3x3, 22x22\n",
        "\n",
        "model.add(Convolution2D(10, 3, 3)) # 1x1x10, 24x24\n",
        "\n",
        "model.add(Flatten())\n",
        "model.add(Activation('softmax'))\n",
        "\n",
        "# Summarize the model\n",
        "model.summary()"
      ],
      "execution_count": 27,
      "outputs": [
        {
          "output_type": "stream",
          "text": [
            "_________________________________________________________________\n",
            "Layer (type)                 Output Shape              Param #   \n",
            "=================================================================\n",
            "conv2d_21 (Conv2D)           (None, 26, 26, 8)         80        \n",
            "_________________________________________________________________\n",
            "conv2d_22 (Conv2D)           (None, 24, 24, 16)        1168      \n",
            "_________________________________________________________________\n",
            "conv2d_23 (Conv2D)           (None, 22, 22, 32)        4640      \n",
            "_________________________________________________________________\n",
            "max_pooling2d_3 (MaxPooling2 (None, 11, 11, 32)        0         \n",
            "_________________________________________________________________\n",
            "conv2d_24 (Conv2D)           (None, 11, 11, 8)         264       \n",
            "_________________________________________________________________\n",
            "conv2d_25 (Conv2D)           (None, 9, 9, 16)          1168      \n",
            "_________________________________________________________________\n",
            "conv2d_26 (Conv2D)           (None, 7, 7, 32)          4640      \n",
            "_________________________________________________________________\n",
            "conv2d_27 (Conv2D)           (None, 7, 7, 8)           264       \n",
            "_________________________________________________________________\n",
            "conv2d_28 (Conv2D)           (None, 5, 5, 16)          1168      \n",
            "_________________________________________________________________\n",
            "conv2d_29 (Conv2D)           (None, 3, 3, 24)          3480      \n",
            "_________________________________________________________________\n",
            "conv2d_30 (Conv2D)           (None, 1, 1, 10)          2170      \n",
            "_________________________________________________________________\n",
            "flatten_3 (Flatten)          (None, 10)                0         \n",
            "_________________________________________________________________\n",
            "activation_3 (Activation)    (None, 10)                0         \n",
            "=================================================================\n",
            "Total params: 19,042\n",
            "Trainable params: 19,042\n",
            "Non-trainable params: 0\n",
            "_________________________________________________________________\n"
          ],
          "name": "stdout"
        },
        {
          "output_type": "stream",
          "text": [
            "/usr/local/lib/python3.6/dist-packages/ipykernel_launcher.py:5: UserWarning: Update your `Conv2D` call to the Keras 2 API: `Conv2D(8, (3, 3), activation=\"relu\", input_shape=(28, 28, 1...)`\n",
            "  \"\"\"\n",
            "/usr/local/lib/python3.6/dist-packages/ipykernel_launcher.py:6: UserWarning: Update your `Conv2D` call to the Keras 2 API: `Conv2D(16, (3, 3), activation=\"relu\")`\n",
            "  \n",
            "/usr/local/lib/python3.6/dist-packages/ipykernel_launcher.py:7: UserWarning: Update your `Conv2D` call to the Keras 2 API: `Conv2D(32, (3, 3), activation=\"relu\")`\n",
            "  import sys\n",
            "/usr/local/lib/python3.6/dist-packages/ipykernel_launcher.py:11: UserWarning: Update your `Conv2D` call to the Keras 2 API: `Conv2D(8, (1, 1), activation=\"relu\")`\n",
            "  # This is added back by InteractiveShellApp.init_path()\n",
            "/usr/local/lib/python3.6/dist-packages/ipykernel_launcher.py:14: UserWarning: Update your `Conv2D` call to the Keras 2 API: `Conv2D(16, (3, 3), activation=\"relu\")`\n",
            "  \n",
            "/usr/local/lib/python3.6/dist-packages/ipykernel_launcher.py:15: UserWarning: Update your `Conv2D` call to the Keras 2 API: `Conv2D(32, (3, 3), activation=\"relu\")`\n",
            "  from ipykernel import kernelapp as app\n",
            "/usr/local/lib/python3.6/dist-packages/ipykernel_launcher.py:17: UserWarning: Update your `Conv2D` call to the Keras 2 API: `Conv2D(8, (1, 1), activation=\"relu\")`\n",
            "/usr/local/lib/python3.6/dist-packages/ipykernel_launcher.py:19: UserWarning: Update your `Conv2D` call to the Keras 2 API: `Conv2D(16, (3, 3), activation=\"relu\")`\n",
            "/usr/local/lib/python3.6/dist-packages/ipykernel_launcher.py:20: UserWarning: Update your `Conv2D` call to the Keras 2 API: `Conv2D(24, (3, 3), activation=\"relu\")`\n",
            "/usr/local/lib/python3.6/dist-packages/ipykernel_launcher.py:22: UserWarning: Update your `Conv2D` call to the Keras 2 API: `Conv2D(10, (3, 3))`\n"
          ],
          "name": "stderr"
        }
      ]
    },
    {
      "cell_type": "code",
      "metadata": {
        "id": "2ViEgB1kOTfI",
        "colab_type": "code",
        "colab": {}
      },
      "source": [
        "# Comment\n",
        "# 1. Compile the model and define loss function, optimization and metrics to measure the prediction\n",
        "\n",
        "model.compile(loss='categorical_crossentropy',\n",
        "             optimizer='adam',\n",
        "             metrics=['accuracy'])"
      ],
      "execution_count": 0,
      "outputs": []
    },
    {
      "cell_type": "code",
      "metadata": {
        "id": "NY4GoY8UOenr",
        "colab_type": "code",
        "outputId": "f31514f1-c108-427f-c0f7-aea835487aac",
        "colab": {
          "base_uri": "https://localhost:8080/",
          "height": 785
        }
      },
      "source": [
        "# Comments:\n",
        "# 1. Train the model for 10 epochs with 32 batch size\n",
        "\n",
        "model.fit(X_train, Y_train, batch_size=128, nb_epoch=20, verbose=1, validation_data=(X_test, Y_test))"
      ],
      "execution_count": 32,
      "outputs": [
        {
          "output_type": "stream",
          "text": [
            "Train on 60000 samples, validate on 10000 samples\n",
            "Epoch 1/20\n",
            " 1792/60000 [..............................] - ETA: 5s - loss: 0.0039 - acc: 0.9983"
          ],
          "name": "stdout"
        },
        {
          "output_type": "stream",
          "text": [
            "/usr/local/lib/python3.6/dist-packages/ipykernel_launcher.py:2: UserWarning: The `nb_epoch` argument in `fit` has been renamed `epochs`.\n",
            "  \n"
          ],
          "name": "stderr"
        },
        {
          "output_type": "stream",
          "text": [
            "60000/60000 [==============================] - 7s 123us/step - loss: 0.0022 - acc: 0.9992 - val_loss: 0.0430 - val_acc: 0.9919\n",
            "Epoch 2/20\n",
            "60000/60000 [==============================] - 7s 120us/step - loss: 5.1517e-04 - acc: 1.0000 - val_loss: 0.0448 - val_acc: 0.9922\n",
            "Epoch 3/20\n",
            "60000/60000 [==============================] - 7s 124us/step - loss: 3.1889e-04 - acc: 1.0000 - val_loss: 0.0460 - val_acc: 0.9926\n",
            "Epoch 4/20\n",
            "60000/60000 [==============================] - 8s 126us/step - loss: 2.9495e-04 - acc: 1.0000 - val_loss: 0.0471 - val_acc: 0.9925\n",
            "Epoch 5/20\n",
            "60000/60000 [==============================] - 8s 129us/step - loss: 2.8738e-04 - acc: 1.0000 - val_loss: 0.0484 - val_acc: 0.9924\n",
            "Epoch 6/20\n",
            "60000/60000 [==============================] - 7s 122us/step - loss: 2.8250e-04 - acc: 1.0000 - val_loss: 0.0492 - val_acc: 0.9925\n",
            "Epoch 7/20\n",
            "60000/60000 [==============================] - 8s 134us/step - loss: 2.7927e-04 - acc: 1.0000 - val_loss: 0.0502 - val_acc: 0.9926\n",
            "Epoch 8/20\n",
            "60000/60000 [==============================] - 7s 125us/step - loss: 2.7672e-04 - acc: 1.0000 - val_loss: 0.0512 - val_acc: 0.9925\n",
            "Epoch 9/20\n",
            "60000/60000 [==============================] - 7s 120us/step - loss: 2.7490e-04 - acc: 1.0000 - val_loss: 0.0521 - val_acc: 0.9925\n",
            "Epoch 10/20\n",
            "60000/60000 [==============================] - 7s 123us/step - loss: 2.7347e-04 - acc: 1.0000 - val_loss: 0.0531 - val_acc: 0.9924\n",
            "Epoch 11/20\n",
            "60000/60000 [==============================] - 7s 120us/step - loss: 2.7231e-04 - acc: 1.0000 - val_loss: 0.0539 - val_acc: 0.9925\n",
            "Epoch 12/20\n",
            "60000/60000 [==============================] - 7s 123us/step - loss: 2.7153e-04 - acc: 1.0000 - val_loss: 0.0547 - val_acc: 0.9923\n",
            "Epoch 13/20\n",
            "60000/60000 [==============================] - 7s 121us/step - loss: 2.7087e-04 - acc: 1.0000 - val_loss: 0.0555 - val_acc: 0.9923\n",
            "Epoch 14/20\n",
            "60000/60000 [==============================] - 7s 121us/step - loss: 2.7038e-04 - acc: 1.0000 - val_loss: 0.0564 - val_acc: 0.9924\n",
            "Epoch 15/20\n",
            "60000/60000 [==============================] - 8s 131us/step - loss: 2.6999e-04 - acc: 1.0000 - val_loss: 0.0571 - val_acc: 0.9924\n",
            "Epoch 16/20\n",
            "60000/60000 [==============================] - 7s 125us/step - loss: 2.6972e-04 - acc: 1.0000 - val_loss: 0.0575 - val_acc: 0.9924\n",
            "Epoch 17/20\n",
            "60000/60000 [==============================] - 7s 123us/step - loss: 2.6950e-04 - acc: 1.0000 - val_loss: 0.0584 - val_acc: 0.9924\n",
            "Epoch 18/20\n",
            "60000/60000 [==============================] - 7s 123us/step - loss: 2.6932e-04 - acc: 1.0000 - val_loss: 0.0593 - val_acc: 0.9924\n",
            "Epoch 19/20\n",
            "60000/60000 [==============================] - 7s 122us/step - loss: 2.6919e-04 - acc: 1.0000 - val_loss: 0.0599 - val_acc: 0.9924\n",
            "Epoch 20/20\n",
            "60000/60000 [==============================] - 7s 124us/step - loss: 2.6909e-04 - acc: 1.0000 - val_loss: 0.0608 - val_acc: 0.9924\n"
          ],
          "name": "stdout"
        },
        {
          "output_type": "execute_result",
          "data": {
            "text/plain": [
              "<keras.callbacks.History at 0x7f1be93a4940>"
            ]
          },
          "metadata": {
            "tags": []
          },
          "execution_count": 32
        }
      ]
    },
    {
      "cell_type": "code",
      "metadata": {
        "id": "Dr_pjcKkOjBK",
        "colab_type": "code",
        "outputId": "5e79385b-6392-4abb-ccd0-7fb60f7b6de5",
        "colab": {
          "base_uri": "https://localhost:8080/",
          "height": 34
        }
      },
      "source": [
        "# Comments:\n",
        "# 1. Evaluate the trained model on test dataset\n",
        "# 2. Print evaluated validation accuracy score.\n",
        "\n",
        "score = model.evaluate(X_test, Y_test, verbose=0)\n",
        "print(score)"
      ],
      "execution_count": 33,
      "outputs": [
        {
          "output_type": "stream",
          "text": [
            "[0.060848190201219336, 0.9924]\n"
          ],
          "name": "stdout"
        }
      ]
    },
    {
      "cell_type": "code",
      "metadata": {
        "id": "XejVDhlSOwiv",
        "colab_type": "code",
        "colab": {}
      },
      "source": [
        "# Comments:\n",
        "# 1. Generate the predictions for the test dataset.\n",
        "# 2. These predictions are in 1-hot vector format\n",
        "#\n",
        "\n",
        "y_pred = model.predict(X_test)"
      ],
      "execution_count": 0,
      "outputs": []
    },
    {
      "cell_type": "code",
      "metadata": {
        "id": "P8Ax6ZblO03r",
        "colab_type": "code",
        "outputId": "cc133cae-0f97-4dac-8f5e-105bff55da48",
        "colab": {
          "base_uri": "https://localhost:8080/",
          "height": 340
        }
      },
      "source": [
        "# Comments:\n",
        "# 1. Print the first 9 Predictions\n",
        "# 2. Only prediction for digit 4 are correct rest are wrong.\n",
        "# 3. Correct predictions for digit 4:\n",
        "#    [0.  0.  0.  0.  1.  0.  0.  0.  0.  0. ]\n",
        "#    [0.  0.  0.  0.  1.  0.  0.  0.  0.  0. ]\n",
        "#\n",
        "\n",
        "print(y_pred[:9])\n",
        "print(y_test[:9])"
      ],
      "execution_count": 35,
      "outputs": [
        {
          "output_type": "stream",
          "text": [
            "[[0.0000000e+00 1.3396243e-37 4.4522244e-31 1.1911587e-23 0.0000000e+00\n",
            "  2.7169431e-31 0.0000000e+00 1.0000000e+00 1.2838715e-33 8.6175683e-26]\n",
            " [1.5960272e-38 9.3242678e-37 1.0000000e+00 2.2408482e-37 0.0000000e+00\n",
            "  0.0000000e+00 0.0000000e+00 0.0000000e+00 9.4902383e-29 0.0000000e+00]\n",
            " [2.7118962e-34 1.0000000e+00 3.8643713e-30 1.2188497e-28 3.2424319e-21\n",
            "  3.6063887e-23 9.6936948e-32 2.4260199e-25 4.3236792e-24 4.2466436e-30]\n",
            " [1.0000000e+00 0.0000000e+00 3.3275630e-37 1.4429556e-26 2.9329241e-38\n",
            "  5.0007359e-22 1.2316960e-17 5.7077368e-35 1.4846216e-24 2.0013601e-33]\n",
            " [0.0000000e+00 9.9104547e-38 0.0000000e+00 0.0000000e+00 1.0000000e+00\n",
            "  0.0000000e+00 0.0000000e+00 3.5127608e-35 3.5552069e-38 3.8340896e-32]\n",
            " [7.8970242e-38 1.0000000e+00 1.9944440e-29 2.6204106e-34 9.5253686e-17\n",
            "  1.7460733e-22 8.6050973e-31 5.7339304e-18 1.3418261e-18 1.1432935e-26]\n",
            " [0.0000000e+00 1.2064170e-33 0.0000000e+00 0.0000000e+00 1.0000000e+00\n",
            "  0.0000000e+00 0.0000000e+00 1.2545575e-24 2.3450837e-31 4.6690854e-28]\n",
            " [6.4600820e-31 3.3832332e-34 7.6622542e-34 2.1585678e-27 1.0706544e-18\n",
            "  5.3725786e-24 4.2960466e-37 4.0051400e-27 4.5635958e-25 1.0000000e+00]\n",
            " [6.5264560e-02 0.0000000e+00 4.4329274e-31 1.3189031e-28 7.0897144e-32\n",
            "  6.1352557e-04 9.3412191e-01 0.0000000e+00 1.4945687e-11 2.0481963e-20]]\n",
            "[7 2 1 0 4 1 4 9 5]\n"
          ],
          "name": "stdout"
        }
      ]
    },
    {
      "cell_type": "code",
      "metadata": {
        "id": "7LHv6j3nO5fU",
        "colab_type": "code",
        "outputId": "745d8efb-6acd-49b4-8be2-26c67cffa264",
        "colab": {
          "base_uri": "https://localhost:8080/",
          "height": 54
        }
      },
      "source": [
        "# Comment\n",
        "# Create Layer dictionary\n",
        "\n",
        "layer_dict = dict([(layer.name, layer) for layer in model.layers])\n",
        "print(layer_dict)"
      ],
      "execution_count": 36,
      "outputs": [
        {
          "output_type": "stream",
          "text": [
            "{'conv2d_21': <keras.layers.convolutional.Conv2D object at 0x7f1be9cd95c0>, 'conv2d_22': <keras.layers.convolutional.Conv2D object at 0x7f1be9cd9588>, 'conv2d_23': <keras.layers.convolutional.Conv2D object at 0x7f1be9cd9828>, 'max_pooling2d_3': <keras.layers.pooling.MaxPooling2D object at 0x7f1be9c81978>, 'conv2d_24': <keras.layers.convolutional.Conv2D object at 0x7f1be9cd9940>, 'conv2d_25': <keras.layers.convolutional.Conv2D object at 0x7f1be9c81278>, 'conv2d_26': <keras.layers.convolutional.Conv2D object at 0x7f1be9c9aa20>, 'conv2d_27': <keras.layers.convolutional.Conv2D object at 0x7f1be9cad400>, 'conv2d_28': <keras.layers.convolutional.Conv2D object at 0x7f1be9c43358>, 'conv2d_29': <keras.layers.convolutional.Conv2D object at 0x7f1be9c5ca90>, 'conv2d_30': <keras.layers.convolutional.Conv2D object at 0x7f1be9c06358>, 'flatten_3': <keras.layers.core.Flatten object at 0x7f1be9bccc50>, 'activation_3': <keras.layers.core.Activation object at 0x7f1be9bf7128>}\n"
          ],
          "name": "stdout"
        }
      ]
    },
    {
      "cell_type": "code",
      "metadata": {
        "id": "4KUoJGsdPG-u",
        "colab_type": "code",
        "outputId": "cad57f9f-70b7-4b84-bb3d-a74aa8697d05",
        "colab": {
          "base_uri": "https://localhost:8080/",
          "height": 741
        }
      },
      "source": [
        "# Comment\n",
        "# Visualize image in filter\n",
        "\n",
        "import numpy as np\n",
        "from matplotlib import pyplot as plt\n",
        "from keras import backend as K\n",
        "%matplotlib inline\n",
        "\n",
        "# util function to convert a tensor into a valid image\n",
        "def deprocess_image(x):\n",
        "    # normalize tensor: center on 0., ensure std is 0.1\n",
        "    x -= x.mean()\n",
        "    x /= (x.std() + 1e-5)\n",
        "    x *= 0.1\n",
        "\n",
        "    # clip to [0, 1]\n",
        "    x += 0.5\n",
        "    x = np.clip(x, 0, 1)\n",
        "\n",
        "    # convert to RGB array\n",
        "    x *= 255\n",
        "    #x = x.transpose((1, 2, 0))\n",
        "    x = np.clip(x, 0, 255).astype('uint8')\n",
        "    return x\n",
        "\n",
        "def vis_img_in_filter(img = np.array(X_train[2]).reshape((1, 28, 28, 1)).astype(np.float64), \n",
        "                      layer_name = 'conv2d_22'):\n",
        "    layer_output = layer_dict[layer_name].output\n",
        "    img_ascs = list()\n",
        "    for filter_index in range(layer_output.shape[3]):\n",
        "        # build a loss function that maximizes the activation\n",
        "        # of the nth filter of the layer considered\n",
        "        loss = K.mean(layer_output[:, :, :, filter_index])\n",
        "\n",
        "        # compute the gradient of the input picture wrt this loss\n",
        "        grads = K.gradients(loss, model.input)[0]\n",
        "\n",
        "        # normalization trick: we normalize the gradient\n",
        "        grads /= (K.sqrt(K.mean(K.square(grads))) + 1e-5)\n",
        "\n",
        "        # this function returns the loss and grads given the input picture\n",
        "        iterate = K.function([model.input], [loss, grads])\n",
        "\n",
        "        # step size for gradient ascent\n",
        "        step = 5.\n",
        "\n",
        "        img_asc = np.array(img)\n",
        "        # run gradient ascent for 20 steps\n",
        "        for i in range(20):\n",
        "            loss_value, grads_value = iterate([img_asc])\n",
        "            img_asc += grads_value * step\n",
        "\n",
        "        img_asc = img_asc[0]\n",
        "        img_ascs.append(deprocess_image(img_asc).reshape((28, 28)))\n",
        "        \n",
        "    if layer_output.shape[3] >= 35:\n",
        "        plot_x, plot_y = 6, 6\n",
        "    elif layer_output.shape[3] >= 23:\n",
        "        plot_x, plot_y = 4, 6\n",
        "    elif layer_output.shape[3] >= 11:\n",
        "        plot_x, plot_y = 2, 6\n",
        "    else:\n",
        "        plot_x, plot_y = 1, 2\n",
        "    fig, ax = plt.subplots(plot_x, plot_y, figsize = (12, 12))\n",
        "    ax[0, 0].imshow(img.reshape((28, 28)), cmap = 'gray')\n",
        "    ax[0, 0].set_title('Input image')\n",
        "    fig.suptitle('Input image and %s filters' % (layer_name,))\n",
        "    fig.tight_layout(pad = 0.3, rect = [0, 0, 0.9, 0.9])\n",
        "    for (x, y) in [(i, j) for i in range(plot_x) for j in range(plot_y)]:\n",
        "        if x == 0 and y == 0:\n",
        "            continue\n",
        "        ax[x, y].imshow(img_ascs[x * plot_y + y - 1], cmap = 'gray')\n",
        "        ax[x, y].set_title('filter %d' % (x * plot_y + y - 1))\n",
        "\n",
        "vis_img_in_filter()"
      ],
      "execution_count": 38,
      "outputs": [
        {
          "output_type": "display_data",
          "data": {
            "image/png": "[encoded data removed]",
            "text/plain": [
              "<Figure size 864x864 with 12 Axes>"
            ]
          },
          "metadata": {
            "tags": []
          }
        }
      ]
    }
  ]
}