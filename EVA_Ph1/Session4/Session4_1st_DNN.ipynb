{
  "nbformat": 4,
  "nbformat_minor": 0,
  "metadata": {
    "colab": {
      "name": "Session4_1st_DNN.ipynb",
      "version": "0.3.2",
      "provenance": [],
      "include_colab_link": true
    },
    "kernelspec": {
      "name": "python3",
      "display_name": "Python 3"
    },
    "accelerator": "GPU"
  },
  "cells": [
    {
      "cell_type": "markdown",
      "metadata": {
        "id": "view-in-github",
        "colab_type": "text"
      },
      "source": [
        "<a href=\"https://colab.research.google.com/github/RamanGupta16/ML/blob/master/EVA_Ph1/Session4/Session4_1st_DNN.ipynb\" target=\"_parent\"><img src=\"https://colab.research.google.com/assets/colab-badge.svg\" alt=\"Open In Colab\"/></a>"
      ]
    },
    {
      "cell_type": "code",
      "metadata": {
        "id": "OyB6Xxhdj1Pn",
        "colab_type": "code",
        "colab": {}
      },
      "source": [
        "# Session4 1st DNN ==> Simple Plain Vanilla model\n",
        "# 3x3, 1x1, MaxPool, \n",
        "# default LR\n",
        "# 10 epochs\n",
        "# 32 batch size\n",
        "\n",
        "# RESULTS SUMMARY\n",
        "# Parameters: 20,922\n",
        "# 99.07 best validation accuracy in epoch 5"
      ],
      "execution_count": 0,
      "outputs": []
    },
    {
      "cell_type": "code",
      "metadata": {
        "id": "MW3CDKhYkfJS",
        "colab_type": "code",
        "colab": {
          "base_uri": "https://localhost:8080/",
          "height": 34
        },
        "outputId": "9185c30d-11d5-4e14-fdfe-c11f528f4ee0"
      },
      "source": [
        "# Comments:\n",
        "# Install keras onto colab VM \n",
        "# Import numpy package\n",
        "# Import keras models, layers, convolution, dropout\n",
        "# Import MNIST dataset\n",
        "#\n",
        "\n",
        "# https://keras.io/\n",
        "!pip install -q keras\n",
        "\n",
        "import keras\n",
        "import numpy as np\n",
        "\n",
        "from keras.models import Sequential\n",
        "from keras.layers import Dense, Dropout, Activation, Flatten, Add\n",
        "from keras.layers import Convolution2D, MaxPooling2D\n",
        "from keras.utils import np_utils\n",
        "\n",
        "from keras.datasets import mnist"
      ],
      "execution_count": 4,
      "outputs": [
        {
          "output_type": "stream",
          "text": [
            "Using TensorFlow backend.\n"
          ],
          "name": "stderr"
        }
      ]
    },
    {
      "cell_type": "code",
      "metadata": {
        "id": "pncLjzv1kb5f",
        "colab_type": "code",
        "outputId": "3c3d99a7-d4c3-4781-829f-327e488250d0",
        "colab": {
          "base_uri": "https://localhost:8080/",
          "height": 303
        }
      },
      "source": [
        "# Comments:\n",
        "# 1. Load MNIST dataset. It loads both Training and Test datasets\n",
        "# 2. Training set has 60,000 image samples. X_train are images and y_train is label of images\n",
        "# 3. Test set of 10,000 image samples. y_test are images and y_train is label of images\n",
        "# \n",
        "\n",
        "(X_train, y_train), (X_test, y_test) = mnist.load_data()\n",
        "\n",
        "# Comments:\n",
        "# 1. Training set has 60,000 image samples of size 28x28 pixels\n",
        "# 2. Show '5' hand written digit image\n",
        "#\n",
        "print (X_train.shape)\n",
        "from matplotlib import pyplot as plt\n",
        "%matplotlib inline\n",
        "plt.imshow(X_train[0])"
      ],
      "execution_count": 5,
      "outputs": [
        {
          "output_type": "stream",
          "text": [
            "(60000, 28, 28)\n"
          ],
          "name": "stdout"
        },
        {
          "output_type": "execute_result",
          "data": {
            "text/plain": [
              "<matplotlib.image.AxesImage at 0x7fe6d4b27be0>"
            ]
          },
          "metadata": {
            "tags": []
          },
          "execution_count": 5
        },
        {
          "output_type": "display_data",
          "data": {
            "image/png": "[encoded data removed]",
            "text/plain": [
              "<Figure size 432x288 with 1 Axes>"
            ]
          },
          "metadata": {
            "tags": []
          }
        }
      ]
    },
    {
      "cell_type": "code",
      "metadata": {
        "id": "oSgzrXqQk_Yq",
        "colab_type": "code",
        "colab": {}
      },
      "source": [
        "# Comments:\n",
        "# 1. Reshape the 60,000 training data with channel dimenison as 1. So each image is 28x28x1 dimension\n",
        "# 2. Reshape the 10,000 test data with channel dimenison as 1. So each image is 28x28x1 dimension\n",
        "#\n",
        "\n",
        "X_train = X_train.reshape(X_train.shape[0], 28, 28,1)\n",
        "X_test = X_test.reshape(X_test.shape[0], 28, 28,1)\n",
        "\n",
        "# Comments:\n",
        "# 1. Divide training data by 255 so that pixels become float values betwee 0..1\n",
        "# 2. Divide test data by 255 so that pixels become float values betwee 0..1\n",
        "#\n",
        "\n",
        "X_train = X_train.astype('float32')\n",
        "X_test = X_test.astype('float32')\n",
        "X_train /= 255\n",
        "X_test /= 255"
      ],
      "execution_count": 0,
      "outputs": []
    },
    {
      "cell_type": "code",
      "metadata": {
        "id": "Rcbh2lSGlaix",
        "colab_type": "code",
        "outputId": "b3db886f-1a7a-44a5-c439-143c79b0b43a",
        "colab": {
          "base_uri": "https://localhost:8080/",
          "height": 187
        }
      },
      "source": [
        "# Comments:\n",
        "# 1. Print the first 10 labels of training data\n",
        "#\n",
        "y_train[:10]\n",
        "\n",
        "# Comments:\n",
        "# 1. Convert 1-dimensional train and test labels into one-hot vector of floats\n",
        "#    where only 1 value in vector is high(hot) indicating the label of image.\n",
        "#    Eaxmple [0., 0., 0., 0., 0., 1., 0., 0., 0., 0.] ==> 5\n",
        "\n",
        "# Convert 1-dimensional class arrays to 10-dimensional class matrices\n",
        "Y_train = np_utils.to_categorical(y_train, 10)\n",
        "Y_test = np_utils.to_categorical(y_test, 10)\n",
        "\n",
        "# Comments:\n",
        "# 1. Print the first 10 training label as one-hot vectors.\n",
        "#    Eaxmple [0., 0., 0., 0., 0., 1., 0., 0., 0., 0.] ==> 5\n",
        "\n",
        "Y_train[:10]"
      ],
      "execution_count": 7,
      "outputs": [
        {
          "output_type": "execute_result",
          "data": {
            "text/plain": [
              "array([[0., 0., 0., 0., 0., 1., 0., 0., 0., 0.],\n",
              "       [1., 0., 0., 0., 0., 0., 0., 0., 0., 0.],\n",
              "       [0., 0., 0., 0., 1., 0., 0., 0., 0., 0.],\n",
              "       [0., 1., 0., 0., 0., 0., 0., 0., 0., 0.],\n",
              "       [0., 0., 0., 0., 0., 0., 0., 0., 0., 1.],\n",
              "       [0., 0., 1., 0., 0., 0., 0., 0., 0., 0.],\n",
              "       [0., 1., 0., 0., 0., 0., 0., 0., 0., 0.],\n",
              "       [0., 0., 0., 1., 0., 0., 0., 0., 0., 0.],\n",
              "       [0., 1., 0., 0., 0., 0., 0., 0., 0., 0.],\n",
              "       [0., 0., 0., 0., 1., 0., 0., 0., 0., 0.]], dtype=float32)"
            ]
          },
          "metadata": {
            "tags": []
          },
          "execution_count": 7
        }
      ]
    },
    {
      "cell_type": "code",
      "metadata": {
        "id": "8IcBwNRenE-X",
        "colab_type": "code",
        "outputId": "3f83cf32-39f6-4b9d-e56c-423a3beac34e",
        "colab": {
          "base_uri": "https://localhost:8080/",
          "height": 921
        }
      },
      "source": [
        "# Comments:\n",
        "# 1. Create the model\n",
        "# 2. Add convolution Layers\n",
        "\n",
        "# Session4 1st DNN ==> Simple Plain Vanilla model\n",
        "# 3x3, 1x1, MaxPool, default LR, 10 epochs, 32 batch size\n",
        "\n",
        "from keras.layers import Activation\n",
        "model = Sequential()\n",
        "\n",
        "model.add(Convolution2D(8, 3, 3, activation='relu', input_shape=(28,28,1))) # 26x26x16, 3x3\n",
        "model.add(Convolution2D(16, 3, 3, activation='relu')) #  24x24x32, 5x5\n",
        "model.add(Convolution2D(32, 3, 3, activation='relu')) #  22x22x128, 7x7\n",
        "\n",
        "\n",
        "model.add(MaxPooling2D(pool_size=(2, 2))) # 11x11x128, 14x14\n",
        "model.add(Convolution2D(8, 1, 1, activation='relu')) # 11x11x32, 14x14\n",
        "\n",
        "\n",
        "model.add(Convolution2D(16, 3, 3, activation='relu')) # 9x9x64, 16x16\n",
        "model.add(Convolution2D(32, 3, 3, activation='relu')) # 7x7x128, 18x18\n",
        "\n",
        "model.add(Convolution2D(8, 1, 1, activation='relu')) # 7x7x32, 18x18\n",
        "\n",
        "model.add(Convolution2D(16, 3, 3, activation='relu')) # 5x5, 20x20\n",
        "model.add(Convolution2D(32, 3, 3, activation='relu')) # 3x3, 22x22\n",
        "\n",
        "model.add(Convolution2D(10, 3, 3)) # 1x1x10, 24x24\n",
        "\n",
        "model.add(Flatten())\n",
        "model.add(Activation('softmax'))\n",
        "\n",
        "# Summarize the model\n",
        "model.summary()"
      ],
      "execution_count": 8,
      "outputs": [
        {
          "output_type": "stream",
          "text": [
            "WARNING:tensorflow:From /usr/local/lib/python3.6/dist-packages/tensorflow/python/framework/op_def_library.py:263: colocate_with (from tensorflow.python.framework.ops) is deprecated and will be removed in a future version.\n",
            "Instructions for updating:\n",
            "Colocations handled automatically by placer.\n"
          ],
          "name": "stdout"
        },
        {
          "output_type": "stream",
          "text": [
            "/usr/local/lib/python3.6/dist-packages/ipykernel_launcher.py:5: UserWarning: Update your `Conv2D` call to the Keras 2 API: `Conv2D(8, (3, 3), activation=\"relu\", input_shape=(28, 28, 1...)`\n",
            "  \"\"\"\n",
            "/usr/local/lib/python3.6/dist-packages/ipykernel_launcher.py:6: UserWarning: Update your `Conv2D` call to the Keras 2 API: `Conv2D(16, (3, 3), activation=\"relu\")`\n",
            "  \n",
            "/usr/local/lib/python3.6/dist-packages/ipykernel_launcher.py:7: UserWarning: Update your `Conv2D` call to the Keras 2 API: `Conv2D(32, (3, 3), activation=\"relu\")`\n",
            "  import sys\n",
            "/usr/local/lib/python3.6/dist-packages/ipykernel_launcher.py:11: UserWarning: Update your `Conv2D` call to the Keras 2 API: `Conv2D(8, (1, 1), activation=\"relu\")`\n",
            "  # This is added back by InteractiveShellApp.init_path()\n",
            "/usr/local/lib/python3.6/dist-packages/ipykernel_launcher.py:14: UserWarning: Update your `Conv2D` call to the Keras 2 API: `Conv2D(16, (3, 3), activation=\"relu\")`\n",
            "  \n",
            "/usr/local/lib/python3.6/dist-packages/ipykernel_launcher.py:15: UserWarning: Update your `Conv2D` call to the Keras 2 API: `Conv2D(32, (3, 3), activation=\"relu\")`\n",
            "  from ipykernel import kernelapp as app\n",
            "/usr/local/lib/python3.6/dist-packages/ipykernel_launcher.py:17: UserWarning: Update your `Conv2D` call to the Keras 2 API: `Conv2D(8, (1, 1), activation=\"relu\")`\n",
            "/usr/local/lib/python3.6/dist-packages/ipykernel_launcher.py:19: UserWarning: Update your `Conv2D` call to the Keras 2 API: `Conv2D(16, (3, 3), activation=\"relu\")`\n"
          ],
          "name": "stderr"
        },
        {
          "output_type": "stream",
          "text": [
            "_________________________________________________________________\n",
            "Layer (type)                 Output Shape              Param #   \n",
            "=================================================================\n",
            "conv2d_1 (Conv2D)            (None, 26, 26, 8)         80        \n",
            "_________________________________________________________________\n",
            "conv2d_2 (Conv2D)            (None, 24, 24, 16)        1168      \n",
            "_________________________________________________________________\n",
            "conv2d_3 (Conv2D)            (None, 22, 22, 32)        4640      \n",
            "_________________________________________________________________\n",
            "max_pooling2d_1 (MaxPooling2 (None, 11, 11, 32)        0         \n",
            "_________________________________________________________________\n",
            "conv2d_4 (Conv2D)            (None, 11, 11, 8)         264       \n",
            "_________________________________________________________________\n",
            "conv2d_5 (Conv2D)            (None, 9, 9, 16)          1168      \n",
            "_________________________________________________________________\n",
            "conv2d_6 (Conv2D)            (None, 7, 7, 32)          4640      \n",
            "_________________________________________________________________\n",
            "conv2d_7 (Conv2D)            (None, 7, 7, 8)           264       \n",
            "_________________________________________________________________\n",
            "conv2d_8 (Conv2D)            (None, 5, 5, 16)          1168      \n",
            "_________________________________________________________________\n",
            "conv2d_9 (Conv2D)            (None, 3, 3, 32)          4640      \n",
            "_________________________________________________________________\n",
            "conv2d_10 (Conv2D)           (None, 1, 1, 10)          2890      \n",
            "_________________________________________________________________\n",
            "flatten_1 (Flatten)          (None, 10)                0         \n",
            "_________________________________________________________________\n",
            "activation_1 (Activation)    (None, 10)                0         \n",
            "=================================================================\n",
            "Total params: 20,922\n",
            "Trainable params: 20,922\n",
            "Non-trainable params: 0\n",
            "_________________________________________________________________\n"
          ],
          "name": "stdout"
        },
        {
          "output_type": "stream",
          "text": [
            "/usr/local/lib/python3.6/dist-packages/ipykernel_launcher.py:20: UserWarning: Update your `Conv2D` call to the Keras 2 API: `Conv2D(32, (3, 3), activation=\"relu\")`\n",
            "/usr/local/lib/python3.6/dist-packages/ipykernel_launcher.py:22: UserWarning: Update your `Conv2D` call to the Keras 2 API: `Conv2D(10, (3, 3))`\n"
          ],
          "name": "stderr"
        }
      ]
    },
    {
      "cell_type": "code",
      "metadata": {
        "id": "2ViEgB1kOTfI",
        "colab_type": "code",
        "colab": {}
      },
      "source": [
        "# Comment\n",
        "# 1. Compile the model and define loss function, optimization and metrics to measure the prediction\n",
        "\n",
        "model.compile(loss='categorical_crossentropy',\n",
        "             optimizer='adam',\n",
        "             metrics=['accuracy'])"
      ],
      "execution_count": 0,
      "outputs": []
    },
    {
      "cell_type": "code",
      "metadata": {
        "id": "NY4GoY8UOenr",
        "colab_type": "code",
        "outputId": "58bf3ef1-4ac4-4ebe-e3c4-fd5d93274265",
        "colab": {
          "base_uri": "https://localhost:8080/",
          "height": 445
        }
      },
      "source": [
        "# Comments:\n",
        "# 1. Train the model for 10 epochs with 32 batch size\n",
        "\n",
        "model.fit(X_train, Y_train, batch_size=32, nb_epoch=10, verbose=1, validation_data=(X_test, Y_test))"
      ],
      "execution_count": 11,
      "outputs": [
        {
          "output_type": "stream",
          "text": [
            "Train on 60000 samples, validate on 10000 samples\n",
            "Epoch 1/10\n",
            "  672/60000 [..............................] - ETA: 14s - loss: 0.0170 - acc: 0.9926"
          ],
          "name": "stdout"
        },
        {
          "output_type": "stream",
          "text": [
            "/usr/local/lib/python3.6/dist-packages/ipykernel_launcher.py:2: UserWarning: The `nb_epoch` argument in `fit` has been renamed `epochs`.\n",
            "  \n"
          ],
          "name": "stderr"
        },
        {
          "output_type": "stream",
          "text": [
            "60000/60000 [==============================] - 12s 207us/step - loss: 0.0249 - acc: 0.9920 - val_loss: 0.0316 - val_acc: 0.9905\n",
            "Epoch 2/10\n",
            "60000/60000 [==============================] - 14s 230us/step - loss: 0.0232 - acc: 0.9927 - val_loss: 0.0344 - val_acc: 0.9890\n",
            "Epoch 3/10\n",
            "60000/60000 [==============================] - 12s 204us/step - loss: 0.0216 - acc: 0.9931 - val_loss: 0.0349 - val_acc: 0.9899\n",
            "Epoch 4/10\n",
            "60000/60000 [==============================] - 12s 201us/step - loss: 0.0196 - acc: 0.9933 - val_loss: 0.0467 - val_acc: 0.9859\n",
            "Epoch 5/10\n",
            "60000/60000 [==============================] - 12s 200us/step - loss: 0.0183 - acc: 0.9945 - val_loss: 0.0343 - val_acc: 0.9907\n",
            "Epoch 6/10\n",
            "60000/60000 [==============================] - 12s 201us/step - loss: 0.0171 - acc: 0.9946 - val_loss: 0.0514 - val_acc: 0.9881\n",
            "Epoch 7/10\n",
            "60000/60000 [==============================] - 12s 201us/step - loss: 0.0190 - acc: 0.9940 - val_loss: 0.0374 - val_acc: 0.9881\n",
            "Epoch 8/10\n",
            "60000/60000 [==============================] - 12s 204us/step - loss: 0.0163 - acc: 0.9947 - val_loss: 0.0438 - val_acc: 0.9873\n",
            "Epoch 9/10\n",
            "60000/60000 [==============================] - 13s 223us/step - loss: 0.0144 - acc: 0.9950 - val_loss: 0.0458 - val_acc: 0.9871\n",
            "Epoch 10/10\n",
            "60000/60000 [==============================] - 12s 199us/step - loss: 0.0154 - acc: 0.9952 - val_loss: 0.0382 - val_acc: 0.9907\n"
          ],
          "name": "stdout"
        },
        {
          "output_type": "execute_result",
          "data": {
            "text/plain": [
              "<keras.callbacks.History at 0x7fe6d4adc860>"
            ]
          },
          "metadata": {
            "tags": []
          },
          "execution_count": 11
        }
      ]
    },
    {
      "cell_type": "code",
      "metadata": {
        "id": "Dr_pjcKkOjBK",
        "colab_type": "code",
        "outputId": "f6674f37-08cf-43fc-da2f-7499acae34d3",
        "colab": {
          "base_uri": "https://localhost:8080/",
          "height": 34
        }
      },
      "source": [
        "# Comments:\n",
        "# 1. Evaluate the trained model on test dataset\n",
        "# 2. Print evaluated validation accuracy score.\n",
        "\n",
        "score = model.evaluate(X_test, Y_test, verbose=0)\n",
        "print(score)"
      ],
      "execution_count": 12,
      "outputs": [
        {
          "output_type": "stream",
          "text": [
            "[0.03820739018618697, 0.9907]\n"
          ],
          "name": "stdout"
        }
      ]
    },
    {
      "cell_type": "code",
      "metadata": {
        "id": "XejVDhlSOwiv",
        "colab_type": "code",
        "colab": {}
      },
      "source": [
        "# Comments:\n",
        "# 1. Generate the predictions for the test dataset.\n",
        "# 2. These predictions are in 1-hot vector format\n",
        "#\n",
        "\n",
        "y_pred = model.predict(X_test)"
      ],
      "execution_count": 0,
      "outputs": []
    },
    {
      "cell_type": "code",
      "metadata": {
        "id": "P8Ax6ZblO03r",
        "colab_type": "code",
        "outputId": "e08f141d-0460-4a6b-8395-eb9258829171",
        "colab": {
          "base_uri": "https://localhost:8080/",
          "height": 493
        }
      },
      "source": [
        "# Comments:\n",
        "# 1. Print the first 9 Predictions\n",
        "# 2. Only prediction for digit 4 are correct rest are wrong.\n",
        "# 3. Correct predictions for digit 4:\n",
        "#    [0.  0.  0.  0.  1.  0.  0.  0.  0.  0. ]\n",
        "#    [0.  0.  0.  0.  1.  0.  0.  0.  0.  0. ]\n",
        "#\n",
        "\n",
        "print(y_pred[:9])\n",
        "print(y_test[:9])"
      ],
      "execution_count": 14,
      "outputs": [
        {
          "output_type": "stream",
          "text": [
            "[[4.69383443e-14 6.53801492e-12 2.47971865e-09 3.18241128e-10\n",
            "  1.27236167e-16 5.65569943e-12 6.09472818e-27 1.00000000e+00\n",
            "  4.70010112e-16 4.33117153e-10]\n",
            " [4.94789522e-11 2.06939134e-07 9.99999404e-01 1.23974962e-12\n",
            "  1.02128581e-07 3.28603898e-12 2.65559521e-07 6.82102649e-13\n",
            "  1.33775115e-08 9.99163044e-11]\n",
            " [1.32167699e-09 9.99975324e-01 3.10982706e-08 3.55164335e-11\n",
            "  2.28618756e-05 1.51434165e-06 1.16681817e-10 1.43832736e-07\n",
            "  7.96286059e-09 8.12645737e-08]\n",
            " [9.99998569e-01 1.92385011e-10 1.71223022e-07 2.22239631e-08\n",
            "  8.73647942e-12 1.23125608e-06 1.71479488e-08 1.37262368e-10\n",
            "  4.28415481e-09 7.85685028e-09]\n",
            " [8.18634711e-14 2.07567714e-13 6.49789846e-13 1.07187981e-13\n",
            "  9.99989271e-01 5.96505734e-10 1.15902600e-11 1.73100336e-11\n",
            "  2.43811395e-11 1.07395308e-05]\n",
            " [3.00370478e-10 9.99997973e-01 7.55189244e-09 2.05539882e-12\n",
            "  1.61065100e-06 3.41568636e-07 1.65749619e-11 8.53987530e-08\n",
            "  1.01598896e-09 2.90872726e-09]\n",
            " [6.05955216e-15 1.22355281e-09 9.10536750e-12 7.04110728e-11\n",
            "  9.99954462e-01 1.11072046e-12 5.45121255e-17 7.92239441e-10\n",
            "  9.52914979e-06 3.60034028e-05]\n",
            " [9.94349308e-12 9.69744372e-14 2.85196156e-09 5.15358589e-10\n",
            "  7.77053017e-08 4.01695832e-09 4.40817305e-13 3.12364747e-08\n",
            "  3.18974569e-10 9.99999881e-01]\n",
            " [2.83464712e-13 1.06413667e-17 1.29914684e-15 1.19649554e-10\n",
            "  7.88390880e-11 8.49648297e-01 1.50323853e-01 2.59878560e-15\n",
            "  2.62809881e-05 1.55810062e-06]]\n",
            "[7 2 1 0 4 1 4 9 5]\n"
          ],
          "name": "stdout"
        }
      ]
    },
    {
      "cell_type": "code",
      "metadata": {
        "id": "7LHv6j3nO5fU",
        "colab_type": "code",
        "outputId": "085ddd76-b520-4e43-800b-a82f5d933d8e",
        "colab": {
          "base_uri": "https://localhost:8080/",
          "height": 54
        }
      },
      "source": [
        "# Comment\n",
        "# Create Layer dictionary\n",
        "\n",
        "layer_dict = dict([(layer.name, layer) for layer in model.layers])\n",
        "print(layer_dict)"
      ],
      "execution_count": 15,
      "outputs": [
        {
          "output_type": "stream",
          "text": [
            "{'conv2d_1': <keras.layers.convolutional.Conv2D object at 0x7fe6d4b05240>, 'conv2d_2': <keras.layers.convolutional.Conv2D object at 0x7fe6d4b05588>, 'conv2d_3': <keras.layers.convolutional.Conv2D object at 0x7fe6d22ac278>, 'max_pooling2d_1': <keras.layers.pooling.MaxPooling2D object at 0x7fe6d1a6cdd8>, 'conv2d_4': <keras.layers.convolutional.Conv2D object at 0x7fe6d22ac390>, 'conv2d_5': <keras.layers.convolutional.Conv2D object at 0x7fe6d1a80048>, 'conv2d_6': <keras.layers.convolutional.Conv2D object at 0x7fe6d1a187f0>, 'conv2d_7': <keras.layers.convolutional.Conv2D object at 0x7fe6d1a2d128>, 'conv2d_8': <keras.layers.convolutional.Conv2D object at 0x7fe6d1a40358>, 'conv2d_9': <keras.layers.convolutional.Conv2D object at 0x7fe6d19dc9b0>, 'conv2d_10': <keras.layers.convolutional.Conv2D object at 0x7fe6d1a043c8>, 'flatten_1': <keras.layers.core.Flatten object at 0x7fe6d19c6278>, 'activation_1': <keras.layers.core.Activation object at 0x7fe6d19c62b0>}\n"
          ],
          "name": "stdout"
        }
      ]
    },
    {
      "cell_type": "code",
      "metadata": {
        "id": "4KUoJGsdPG-u",
        "colab_type": "code",
        "outputId": "3d1743f0-f243-4bc2-a490-b6e120d82ada",
        "colab": {
          "base_uri": "https://localhost:8080/",
          "height": 741
        }
      },
      "source": [
        "# Comment\n",
        "# Visualize image in filter\n",
        "\n",
        "import numpy as np\n",
        "from matplotlib import pyplot as plt\n",
        "from keras import backend as K\n",
        "%matplotlib inline\n",
        "\n",
        "# util function to convert a tensor into a valid image\n",
        "def deprocess_image(x):\n",
        "    # normalize tensor: center on 0., ensure std is 0.1\n",
        "    x -= x.mean()\n",
        "    x /= (x.std() + 1e-5)\n",
        "    x *= 0.1\n",
        "\n",
        "    # clip to [0, 1]\n",
        "    x += 0.5\n",
        "    x = np.clip(x, 0, 1)\n",
        "\n",
        "    # convert to RGB array\n",
        "    x *= 255\n",
        "    #x = x.transpose((1, 2, 0))\n",
        "    x = np.clip(x, 0, 255).astype('uint8')\n",
        "    return x\n",
        "\n",
        "def vis_img_in_filter(img = np.array(X_train[2]).reshape((1, 28, 28, 1)).astype(np.float64), \n",
        "                      layer_name = 'conv2d_2'):\n",
        "    layer_output = layer_dict[layer_name].output\n",
        "    img_ascs = list()\n",
        "    for filter_index in range(layer_output.shape[3]):\n",
        "        # build a loss function that maximizes the activation\n",
        "        # of the nth filter of the layer considered\n",
        "        loss = K.mean(layer_output[:, :, :, filter_index])\n",
        "\n",
        "        # compute the gradient of the input picture wrt this loss\n",
        "        grads = K.gradients(loss, model.input)[0]\n",
        "\n",
        "        # normalization trick: we normalize the gradient\n",
        "        grads /= (K.sqrt(K.mean(K.square(grads))) + 1e-5)\n",
        "\n",
        "        # this function returns the loss and grads given the input picture\n",
        "        iterate = K.function([model.input], [loss, grads])\n",
        "\n",
        "        # step size for gradient ascent\n",
        "        step = 5.\n",
        "\n",
        "        img_asc = np.array(img)\n",
        "        # run gradient ascent for 20 steps\n",
        "        for i in range(20):\n",
        "            loss_value, grads_value = iterate([img_asc])\n",
        "            img_asc += grads_value * step\n",
        "\n",
        "        img_asc = img_asc[0]\n",
        "        img_ascs.append(deprocess_image(img_asc).reshape((28, 28)))\n",
        "        \n",
        "    if layer_output.shape[3] >= 35:\n",
        "        plot_x, plot_y = 6, 6\n",
        "    elif layer_output.shape[3] >= 23:\n",
        "        plot_x, plot_y = 4, 6\n",
        "    elif layer_output.shape[3] >= 11:\n",
        "        plot_x, plot_y = 2, 6\n",
        "    else:\n",
        "        plot_x, plot_y = 1, 2\n",
        "    fig, ax = plt.subplots(plot_x, plot_y, figsize = (12, 12))\n",
        "    ax[0, 0].imshow(img.reshape((28, 28)), cmap = 'gray')\n",
        "    ax[0, 0].set_title('Input image')\n",
        "    fig.suptitle('Input image and %s filters' % (layer_name,))\n",
        "    fig.tight_layout(pad = 0.3, rect = [0, 0, 0.9, 0.9])\n",
        "    for (x, y) in [(i, j) for i in range(plot_x) for j in range(plot_y)]:\n",
        "        if x == 0 and y == 0:\n",
        "            continue\n",
        "        ax[x, y].imshow(img_ascs[x * plot_y + y - 1], cmap = 'gray')\n",
        "        ax[x, y].set_title('filter %d' % (x * plot_y + y - 1))\n",
        "\n",
        "vis_img_in_filter()"
      ],
      "execution_count": 19,
      "outputs": [
        {
          "output_type": "display_data",
          "data": {
            "image/png": "[encoded data removed]",
            "text/plain": [
              "<Figure size 864x864 with 12 Axes>"
            ]
          },
          "metadata": {
            "tags": []
          }
        }
      ]
    }
  ]
}