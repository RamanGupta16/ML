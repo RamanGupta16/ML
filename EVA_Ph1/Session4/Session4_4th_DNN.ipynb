{
  "nbformat": 4,
  "nbformat_minor": 0,
  "metadata": {
    "colab": {
      "name": "Session4_4th_DNN.ipynb",
      "version": "0.3.2",
      "provenance": [],
      "include_colab_link": true
    },
    "kernelspec": {
      "name": "python3",
      "display_name": "Python 3"
    },
    "accelerator": "GPU"
  },
  "cells": [
    {
      "cell_type": "markdown",
      "metadata": {
        "id": "view-in-github",
        "colab_type": "text"
      },
      "source": [
        "<a href=\"https://colab.research.google.com/github/RamanGupta16/ML/blob/master/EVA_Ph1/Session4/Session4_4th_DNN.ipynb\" target=\"_parent\"><img src=\"https://colab.research.google.com/assets/colab-badge.svg\" alt=\"Open In Colab\"/></a>"
      ]
    },
    {
      "cell_type": "code",
      "metadata": {
        "id": "OyB6Xxhdj1Pn",
        "colab_type": "code",
        "colab": {}
      },
      "source": [
        "# Session4 4th DNN \n",
        "# Additions on top of 3rd DNN\n",
        "# 1. Learning Rate  Scheduler\n",
        "\n",
        "# Modifications on top of 3rd DNN\n",
        "# 1. Epochs = 50\n",
        "# 2. Batch Size = 384\n",
        "\n",
        "# Reduced parameters to 9,424\n",
        "\n",
        "# RESULTS SUMMARY\n",
        "# Parameters: 9,424\n",
        "# final 99.43 best validation accuracy in epoch 31"
      ],
      "execution_count": 0,
      "outputs": []
    },
    {
      "cell_type": "code",
      "metadata": {
        "id": "MW3CDKhYkfJS",
        "colab_type": "code",
        "colab": {}
      },
      "source": [
        "# Comments:\n",
        "# Install keras onto colab VM \n",
        "# Import numpy package\n",
        "# Import keras models, layers, convolution, dropout\n",
        "# Import MNIST dataset\n",
        "#\n",
        "\n",
        "# https://keras.io/\n",
        "!pip install -q keras\n",
        "\n",
        "import keras\n",
        "import numpy as np\n",
        "\n",
        "from keras.models import Sequential\n",
        "from keras.layers import Dense, Dropout, Activation, Flatten, Add, BatchNormalization\n",
        "from keras.layers import Convolution2D, MaxPooling2D\n",
        "from keras.utils import np_utils\n",
        "\n",
        "from keras.datasets import mnist"
      ],
      "execution_count": 0,
      "outputs": []
    },
    {
      "cell_type": "code",
      "metadata": {
        "id": "pncLjzv1kb5f",
        "colab_type": "code",
        "outputId": "b372fabb-f27d-48e7-edc7-b0f832190872",
        "colab": {
          "base_uri": "https://localhost:8080/",
          "height": 303
        }
      },
      "source": [
        "# Comments:\n",
        "# 1. Load MNIST dataset. It loads both Training and Test datasets\n",
        "# 2. Training set has 60,000 image samples. X_train are images and y_train is label of images\n",
        "# 3. Test set of 10,000 image samples. y_test are images and y_train is label of images\n",
        "# \n",
        "\n",
        "(X_train, y_train), (X_test, y_test) = mnist.load_data()\n",
        "\n",
        "# Comments:\n",
        "# 1. Training set has 60,000 image samples of size 28x28 pixels\n",
        "# 2. Show '5' hand written digit image\n",
        "#\n",
        "print (X_train.shape)\n",
        "from matplotlib import pyplot as plt\n",
        "%matplotlib inline\n",
        "plt.imshow(X_train[0])"
      ],
      "execution_count": 14,
      "outputs": [
        {
          "output_type": "stream",
          "text": [
            "(60000, 28, 28)\n"
          ],
          "name": "stdout"
        },
        {
          "output_type": "execute_result",
          "data": {
            "text/plain": [
              "<matplotlib.image.AxesImage at 0x7f23ddff5a58>"
            ]
          },
          "metadata": {
            "tags": []
          },
          "execution_count": 14
        },
        {
          "output_type": "display_data",
          "data": {
            "image/png": "[encoded data removed]",
            "text/plain": [
              "<Figure size 432x288 with 1 Axes>"
            ]
          },
          "metadata": {
            "tags": []
          }
        }
      ]
    },
    {
      "cell_type": "code",
      "metadata": {
        "id": "oSgzrXqQk_Yq",
        "colab_type": "code",
        "colab": {}
      },
      "source": [
        "# Comments:\n",
        "# 1. Reshape the 60,000 training data with channel dimenison as 1. So each image is 28x28x1 dimension\n",
        "# 2. Reshape the 10,000 test data with channel dimenison as 1. So each image is 28x28x1 dimension\n",
        "#\n",
        "\n",
        "X_train = X_train.reshape(X_train.shape[0], 28, 28,1)\n",
        "X_test = X_test.reshape(X_test.shape[0], 28, 28,1)\n",
        "\n",
        "# Comments:\n",
        "# 1. Divide training data by 255 so that pixels become float values betwee 0..1\n",
        "# 2. Divide test data by 255 so that pixels become float values betwee 0..1\n",
        "#\n",
        "\n",
        "X_train = X_train.astype('float32')\n",
        "X_test = X_test.astype('float32')\n",
        "X_train /= 255\n",
        "X_test /= 255"
      ],
      "execution_count": 0,
      "outputs": []
    },
    {
      "cell_type": "code",
      "metadata": {
        "id": "Rcbh2lSGlaix",
        "colab_type": "code",
        "outputId": "609a473d-9314-4a6d-f762-0797b29b1c72",
        "colab": {
          "base_uri": "https://localhost:8080/",
          "height": 187
        }
      },
      "source": [
        "# Comments:\n",
        "# 1. Print the first 10 labels of training data\n",
        "#\n",
        "y_train[:10]\n",
        "\n",
        "# Comments:\n",
        "# 1. Convert 1-dimensional train and test labels into one-hot vector of floats\n",
        "#    where only 1 value in vector is high(hot) indicating the label of image.\n",
        "#    Eaxmple [0., 0., 0., 0., 0., 1., 0., 0., 0., 0.] ==> 5\n",
        "\n",
        "# Convert 1-dimensional class arrays to 10-dimensional class matrices\n",
        "Y_train = np_utils.to_categorical(y_train, 10)\n",
        "Y_test = np_utils.to_categorical(y_test, 10)\n",
        "\n",
        "# Comments:\n",
        "# 1. Print the first 10 training label as one-hot vectors.\n",
        "#    Eaxmple [0., 0., 0., 0., 0., 1., 0., 0., 0., 0.] ==> 5\n",
        "\n",
        "Y_train[:10]"
      ],
      "execution_count": 16,
      "outputs": [
        {
          "output_type": "execute_result",
          "data": {
            "text/plain": [
              "array([[0., 0., 0., 0., 0., 1., 0., 0., 0., 0.],\n",
              "       [1., 0., 0., 0., 0., 0., 0., 0., 0., 0.],\n",
              "       [0., 0., 0., 0., 1., 0., 0., 0., 0., 0.],\n",
              "       [0., 1., 0., 0., 0., 0., 0., 0., 0., 0.],\n",
              "       [0., 0., 0., 0., 0., 0., 0., 0., 0., 1.],\n",
              "       [0., 0., 1., 0., 0., 0., 0., 0., 0., 0.],\n",
              "       [0., 1., 0., 0., 0., 0., 0., 0., 0., 0.],\n",
              "       [0., 0., 0., 1., 0., 0., 0., 0., 0., 0.],\n",
              "       [0., 1., 0., 0., 0., 0., 0., 0., 0., 0.],\n",
              "       [0., 0., 0., 0., 1., 0., 0., 0., 0., 0.]], dtype=float32)"
            ]
          },
          "metadata": {
            "tags": []
          },
          "execution_count": 16
        }
      ]
    },
    {
      "cell_type": "code",
      "metadata": {
        "id": "8IcBwNRenE-X",
        "colab_type": "code",
        "outputId": "878c89c0-040a-44aa-842f-960c75b5eb8f",
        "colab": {
          "base_uri": "https://localhost:8080/",
          "height": 1193
        }
      },
      "source": [
        "# Comments:\n",
        "# 1. Create the model\n",
        "# 2. Add convolution Layers\n",
        "\n",
        "\n",
        "from keras.layers import Activation\n",
        "model = Sequential()\n",
        "\n",
        "model.add(Convolution2D(12, 3, 3, activation='relu', input_shape=(28,28,1))) # 26x26, RF 3x3\n",
        "model.add(BatchNormalization())\n",
        "model.add(Dropout(0.1))\n",
        "\n",
        "model.add(Convolution2D(16, 3, 3, activation='relu')) #  24x24, 5x5\n",
        "model.add(BatchNormalization())\n",
        "model.add(Dropout(0.1))\n",
        "\n",
        "model.add(MaxPooling2D(pool_size=(2, 2))) # 12x12, 14x14\n",
        "\n",
        "model.add(Convolution2D(8, 1, 1, activation='relu')) # 12x12, 14x14\n",
        "model.add(BatchNormalization())\n",
        "model.add(Dropout(0.1))\n",
        "\n",
        "model.add(Convolution2D(12, 3, 3, activation='relu')) # 10x10, 16x16\n",
        "model.add(BatchNormalization())\n",
        "model.add(Dropout(0.1))\n",
        "\n",
        "model.add(Convolution2D(16, 3, 3, activation='relu')) # 8x8, 18x18\n",
        "model.add(BatchNormalization())\n",
        "model.add(Dropout(0.1))\n",
        "\n",
        "model.add(Convolution2D(8, 1, 1, activation='relu')) # 8x8, 18x18\n",
        "model.add(BatchNormalization())\n",
        "model.add(Dropout(0.1))\n",
        "\n",
        "model.add(Convolution2D(10, 3, 3, activation='relu')) # 6x6, 20x20\n",
        "model.add(BatchNormalization())\n",
        "model.add(Dropout(0.1))\n",
        "\n",
        "model.add(Convolution2D(10, 6, 6, activation='relu')) # 3x3, 22x22\n",
        "\n",
        "model.add(Flatten())\n",
        "model.add(Activation('softmax'))\n",
        "\n",
        "# Summarize the model\n",
        "model.summary()"
      ],
      "execution_count": 75,
      "outputs": [
        {
          "output_type": "stream",
          "text": [
            "/usr/local/lib/python3.6/dist-packages/ipykernel_launcher.py:5: UserWarning: Update your `Conv2D` call to the Keras 2 API: `Conv2D(12, (3, 3), activation=\"relu\", input_shape=(28, 28, 1...)`\n",
            "  \"\"\"\n",
            "/usr/local/lib/python3.6/dist-packages/ipykernel_launcher.py:9: UserWarning: Update your `Conv2D` call to the Keras 2 API: `Conv2D(16, (3, 3), activation=\"relu\")`\n",
            "  if __name__ == '__main__':\n",
            "/usr/local/lib/python3.6/dist-packages/ipykernel_launcher.py:15: UserWarning: Update your `Conv2D` call to the Keras 2 API: `Conv2D(8, (1, 1), activation=\"relu\")`\n",
            "  from ipykernel import kernelapp as app\n",
            "/usr/local/lib/python3.6/dist-packages/ipykernel_launcher.py:19: UserWarning: Update your `Conv2D` call to the Keras 2 API: `Conv2D(12, (3, 3), activation=\"relu\")`\n",
            "/usr/local/lib/python3.6/dist-packages/ipykernel_launcher.py:23: UserWarning: Update your `Conv2D` call to the Keras 2 API: `Conv2D(16, (3, 3), activation=\"relu\")`\n",
            "/usr/local/lib/python3.6/dist-packages/ipykernel_launcher.py:27: UserWarning: Update your `Conv2D` call to the Keras 2 API: `Conv2D(8, (1, 1), activation=\"relu\")`\n"
          ],
          "name": "stderr"
        },
        {
          "output_type": "stream",
          "text": [
            "_________________________________________________________________\n",
            "Layer (type)                 Output Shape              Param #   \n",
            "=================================================================\n",
            "conv2d_228 (Conv2D)          (None, 26, 26, 12)        120       \n",
            "_________________________________________________________________\n",
            "batch_normalization_203 (Bat (None, 26, 26, 12)        48        \n",
            "_________________________________________________________________\n",
            "dropout_203 (Dropout)        (None, 26, 26, 12)        0         \n",
            "_________________________________________________________________\n",
            "conv2d_229 (Conv2D)          (None, 24, 24, 16)        1744      \n",
            "_________________________________________________________________\n",
            "batch_normalization_204 (Bat (None, 24, 24, 16)        64        \n",
            "_________________________________________________________________\n",
            "dropout_204 (Dropout)        (None, 24, 24, 16)        0         \n",
            "_________________________________________________________________\n",
            "max_pooling2d_29 (MaxPooling (None, 12, 12, 16)        0         \n",
            "_________________________________________________________________\n",
            "conv2d_230 (Conv2D)          (None, 12, 12, 8)         136       \n",
            "_________________________________________________________________\n",
            "batch_normalization_205 (Bat (None, 12, 12, 8)         32        \n",
            "_________________________________________________________________\n",
            "dropout_205 (Dropout)        (None, 12, 12, 8)         0         \n",
            "_________________________________________________________________\n",
            "conv2d_231 (Conv2D)          (None, 10, 10, 12)        876       \n",
            "_________________________________________________________________\n",
            "batch_normalization_206 (Bat (None, 10, 10, 12)        48        \n",
            "_________________________________________________________________\n",
            "dropout_206 (Dropout)        (None, 10, 10, 12)        0         \n",
            "_________________________________________________________________\n",
            "conv2d_232 (Conv2D)          (None, 8, 8, 16)          1744      \n",
            "_________________________________________________________________\n",
            "batch_normalization_207 (Bat (None, 8, 8, 16)          64        \n",
            "_________________________________________________________________\n",
            "dropout_207 (Dropout)        (None, 8, 8, 16)          0         \n",
            "_________________________________________________________________\n",
            "conv2d_233 (Conv2D)          (None, 8, 8, 8)           136       \n",
            "_________________________________________________________________\n",
            "batch_normalization_208 (Bat (None, 8, 8, 8)           32        \n",
            "_________________________________________________________________\n",
            "dropout_208 (Dropout)        (None, 8, 8, 8)           0         \n",
            "_________________________________________________________________\n",
            "conv2d_234 (Conv2D)          (None, 6, 6, 10)          730       \n",
            "_________________________________________________________________\n",
            "batch_normalization_209 (Bat (None, 6, 6, 10)          40        \n",
            "_________________________________________________________________\n",
            "dropout_209 (Dropout)        (None, 6, 6, 10)          0         \n",
            "_________________________________________________________________\n",
            "conv2d_235 (Conv2D)          (None, 1, 1, 10)          3610      \n",
            "_________________________________________________________________\n",
            "flatten_27 (Flatten)         (None, 10)                0         \n",
            "_________________________________________________________________\n",
            "activation_27 (Activation)   (None, 10)                0         \n",
            "=================================================================\n",
            "Total params: 9,424\n",
            "Trainable params: 9,260\n",
            "Non-trainable params: 164\n",
            "_________________________________________________________________\n"
          ],
          "name": "stdout"
        },
        {
          "output_type": "stream",
          "text": [
            "/usr/local/lib/python3.6/dist-packages/ipykernel_launcher.py:31: UserWarning: Update your `Conv2D` call to the Keras 2 API: `Conv2D(10, (3, 3), activation=\"relu\")`\n",
            "/usr/local/lib/python3.6/dist-packages/ipykernel_launcher.py:35: UserWarning: Update your `Conv2D` call to the Keras 2 API: `Conv2D(10, (6, 6), activation=\"relu\")`\n"
          ],
          "name": "stderr"
        }
      ]
    },
    {
      "cell_type": "code",
      "metadata": {
        "id": "2ViEgB1kOTfI",
        "colab_type": "code",
        "colab": {
          "base_uri": "https://localhost:8080/",
          "height": 3451
        },
        "outputId": "d260a1f7-aaba-4dfc-8b76-e6e824546a3b"
      },
      "source": [
        "from keras.optimizers import Adam, SGD\n",
        "from keras.callbacks import LearningRateScheduler\n",
        "\n",
        "# Learning Rate Scheduler\n",
        "def scheduler(epoch, lr):\n",
        "  return round(0.003 * 1/(1 + 0.319 * epoch), 10)\n",
        "\n",
        "# Compile with Adam and initial LR=0.003\n",
        "model.compile(loss='categorical_crossentropy', optimizer=Adam(lr=0.003), metrics=['accuracy'])\n",
        "\n",
        "\n",
        "# Comments:\n",
        "# 1. Train the model for with LearningRateScheduler\n",
        "\n",
        "model.fit(X_train, Y_train, batch_size=384, epochs=50, verbose=1, validation_data=(X_test, Y_test), callbacks=[LearningRateScheduler(scheduler, verbose=1)])\n"
      ],
      "execution_count": 104,
      "outputs": [
        {
          "output_type": "stream",
          "text": [
            "Train on 60000 samples, validate on 10000 samples\n",
            "Epoch 1/50\n",
            "\n",
            "Epoch 00001: LearningRateScheduler setting learning rate to 0.003.\n",
            "60000/60000 [==============================] - 22s 359us/step - loss: 0.0155 - acc: 0.9947 - val_loss: 0.0254 - val_acc: 0.9937\n",
            "Epoch 2/50\n",
            "\n",
            "Epoch 00002: LearningRateScheduler setting learning rate to 0.0022744503.\n",
            "60000/60000 [==============================] - 3s 55us/step - loss: 0.0133 - acc: 0.9958 - val_loss: 0.0263 - val_acc: 0.9932\n",
            "Epoch 3/50\n",
            "\n",
            "Epoch 00003: LearningRateScheduler setting learning rate to 0.0018315018.\n",
            "60000/60000 [==============================] - 3s 55us/step - loss: 0.0129 - acc: 0.9956 - val_loss: 0.0306 - val_acc: 0.9920\n",
            "Epoch 4/50\n",
            "\n",
            "Epoch 00004: LearningRateScheduler setting learning rate to 0.0015329586.\n",
            "60000/60000 [==============================] - 3s 56us/step - loss: 0.0127 - acc: 0.9956 - val_loss: 0.0277 - val_acc: 0.9929\n",
            "Epoch 5/50\n",
            "\n",
            "Epoch 00005: LearningRateScheduler setting learning rate to 0.0013181019.\n",
            "60000/60000 [==============================] - 3s 56us/step - loss: 0.0118 - acc: 0.9956 - val_loss: 0.0245 - val_acc: 0.9928\n",
            "Epoch 6/50\n",
            "\n",
            "Epoch 00006: LearningRateScheduler setting learning rate to 0.0011560694.\n",
            "60000/60000 [==============================] - 3s 56us/step - loss: 0.0114 - acc: 0.9962 - val_loss: 0.0285 - val_acc: 0.9931\n",
            "Epoch 7/50\n",
            "\n",
            "Epoch 00007: LearningRateScheduler setting learning rate to 0.0010295127.\n",
            "60000/60000 [==============================] - 3s 55us/step - loss: 0.0109 - acc: 0.9964 - val_loss: 0.0256 - val_acc: 0.9935\n",
            "Epoch 8/50\n",
            "\n",
            "Epoch 00008: LearningRateScheduler setting learning rate to 0.0009279307.\n",
            "60000/60000 [==============================] - 3s 55us/step - loss: 0.0115 - acc: 0.9958 - val_loss: 0.0294 - val_acc: 0.9931\n",
            "Epoch 9/50\n",
            "\n",
            "Epoch 00009: LearningRateScheduler setting learning rate to 0.0008445946.\n",
            "60000/60000 [==============================] - 3s 56us/step - loss: 0.0101 - acc: 0.9963 - val_loss: 0.0250 - val_acc: 0.9935\n",
            "Epoch 10/50\n",
            "\n",
            "Epoch 00010: LearningRateScheduler setting learning rate to 0.0007749935.\n",
            "60000/60000 [==============================] - 3s 55us/step - loss: 0.0106 - acc: 0.9964 - val_loss: 0.0252 - val_acc: 0.9936\n",
            "Epoch 11/50\n",
            "\n",
            "Epoch 00011: LearningRateScheduler setting learning rate to 0.0007159905.\n",
            "60000/60000 [==============================] - 3s 55us/step - loss: 0.0099 - acc: 0.9968 - val_loss: 0.0260 - val_acc: 0.9931\n",
            "Epoch 12/50\n",
            "\n",
            "Epoch 00012: LearningRateScheduler setting learning rate to 0.000665336.\n",
            "60000/60000 [==============================] - 3s 55us/step - loss: 0.0105 - acc: 0.9962 - val_loss: 0.0243 - val_acc: 0.9936\n",
            "Epoch 13/50\n",
            "\n",
            "Epoch 00013: LearningRateScheduler setting learning rate to 0.0006213753.\n",
            "60000/60000 [==============================] - 3s 56us/step - loss: 0.0104 - acc: 0.9964 - val_loss: 0.0264 - val_acc: 0.9934\n",
            "Epoch 14/50\n",
            "\n",
            "Epoch 00014: LearningRateScheduler setting learning rate to 0.0005828638.\n",
            "60000/60000 [==============================] - 3s 55us/step - loss: 0.0104 - acc: 0.9967 - val_loss: 0.0279 - val_acc: 0.9930\n",
            "Epoch 15/50\n",
            "\n",
            "Epoch 00015: LearningRateScheduler setting learning rate to 0.0005488474.\n",
            "60000/60000 [==============================] - 3s 56us/step - loss: 0.0102 - acc: 0.9963 - val_loss: 0.0243 - val_acc: 0.9934\n",
            "Epoch 16/50\n",
            "\n",
            "Epoch 00016: LearningRateScheduler setting learning rate to 0.0005185825.\n",
            "60000/60000 [==============================] - 3s 55us/step - loss: 0.0098 - acc: 0.9969 - val_loss: 0.0260 - val_acc: 0.9935\n",
            "Epoch 17/50\n",
            "\n",
            "Epoch 00017: LearningRateScheduler setting learning rate to 0.000491481.\n",
            "60000/60000 [==============================] - 3s 55us/step - loss: 0.0094 - acc: 0.9965 - val_loss: 0.0260 - val_acc: 0.9936\n",
            "Epoch 18/50\n",
            "\n",
            "Epoch 00018: LearningRateScheduler setting learning rate to 0.0004670715.\n",
            "60000/60000 [==============================] - 3s 55us/step - loss: 0.0083 - acc: 0.9969 - val_loss: 0.0267 - val_acc: 0.9935\n",
            "Epoch 19/50\n",
            "\n",
            "Epoch 00019: LearningRateScheduler setting learning rate to 0.0004449718.\n",
            "60000/60000 [==============================] - 3s 55us/step - loss: 0.0103 - acc: 0.9966 - val_loss: 0.0249 - val_acc: 0.9938\n",
            "Epoch 20/50\n",
            "\n",
            "Epoch 00020: LearningRateScheduler setting learning rate to 0.000424869.\n",
            "60000/60000 [==============================] - 3s 55us/step - loss: 0.0095 - acc: 0.9967 - val_loss: 0.0264 - val_acc: 0.9933\n",
            "Epoch 21/50\n",
            "\n",
            "Epoch 00021: LearningRateScheduler setting learning rate to 0.0004065041.\n",
            "60000/60000 [==============================] - 3s 57us/step - loss: 0.0097 - acc: 0.9965 - val_loss: 0.0266 - val_acc: 0.9931\n",
            "Epoch 22/50\n",
            "\n",
            "Epoch 00022: LearningRateScheduler setting learning rate to 0.000389661.\n",
            "60000/60000 [==============================] - 4s 59us/step - loss: 0.0096 - acc: 0.9967 - val_loss: 0.0251 - val_acc: 0.9940\n",
            "Epoch 23/50\n",
            "\n",
            "Epoch 00023: LearningRateScheduler setting learning rate to 0.0003741581.\n",
            "60000/60000 [==============================] - 4s 59us/step - loss: 0.0092 - acc: 0.9970 - val_loss: 0.0266 - val_acc: 0.9936\n",
            "Epoch 24/50\n",
            "\n",
            "Epoch 00024: LearningRateScheduler setting learning rate to 0.0003598417.\n",
            "60000/60000 [==============================] - 3s 56us/step - loss: 0.0097 - acc: 0.9966 - val_loss: 0.0261 - val_acc: 0.9937\n",
            "Epoch 25/50\n",
            "\n",
            "Epoch 00025: LearningRateScheduler setting learning rate to 0.0003465804.\n",
            "60000/60000 [==============================] - 3s 55us/step - loss: 0.0095 - acc: 0.9965 - val_loss: 0.0246 - val_acc: 0.9938\n",
            "Epoch 26/50\n",
            "\n",
            "Epoch 00026: LearningRateScheduler setting learning rate to 0.0003342618.\n",
            "60000/60000 [==============================] - 3s 55us/step - loss: 0.0090 - acc: 0.9969 - val_loss: 0.0241 - val_acc: 0.9937\n",
            "Epoch 27/50\n",
            "\n",
            "Epoch 00027: LearningRateScheduler setting learning rate to 0.0003227889.\n",
            "60000/60000 [==============================] - 3s 55us/step - loss: 0.0092 - acc: 0.9969 - val_loss: 0.0250 - val_acc: 0.9938\n",
            "Epoch 28/50\n",
            "\n",
            "Epoch 00028: LearningRateScheduler setting learning rate to 0.0003120774.\n",
            "60000/60000 [==============================] - 3s 55us/step - loss: 0.0081 - acc: 0.9974 - val_loss: 0.0250 - val_acc: 0.9938\n",
            "Epoch 29/50\n",
            "\n",
            "Epoch 00029: LearningRateScheduler setting learning rate to 0.000302054.\n",
            "60000/60000 [==============================] - 3s 55us/step - loss: 0.0099 - acc: 0.9965 - val_loss: 0.0259 - val_acc: 0.9937\n",
            "Epoch 30/50\n",
            "\n",
            "Epoch 00030: LearningRateScheduler setting learning rate to 0.0002926544.\n",
            "60000/60000 [==============================] - 3s 55us/step - loss: 0.0089 - acc: 0.9968 - val_loss: 0.0242 - val_acc: 0.9939\n",
            "Epoch 31/50\n",
            "\n",
            "Epoch 00031: LearningRateScheduler setting learning rate to 0.0002838221.\n",
            "60000/60000 [==============================] - 3s 55us/step - loss: 0.0093 - acc: 0.9967 - val_loss: 0.0236 - val_acc: 0.9943\n",
            "Epoch 32/50\n",
            "\n",
            "Epoch 00032: LearningRateScheduler setting learning rate to 0.0002755074.\n",
            "60000/60000 [==============================] - 3s 55us/step - loss: 0.0082 - acc: 0.9972 - val_loss: 0.0250 - val_acc: 0.9939\n",
            "Epoch 33/50\n",
            "\n",
            "Epoch 00033: LearningRateScheduler setting learning rate to 0.000267666.\n",
            "60000/60000 [==============================] - 3s 55us/step - loss: 0.0090 - acc: 0.9969 - val_loss: 0.0262 - val_acc: 0.9937\n",
            "Epoch 34/50\n",
            "\n",
            "Epoch 00034: LearningRateScheduler setting learning rate to 0.0002602585.\n",
            "60000/60000 [==============================] - 3s 55us/step - loss: 0.0087 - acc: 0.9970 - val_loss: 0.0244 - val_acc: 0.9939\n",
            "Epoch 35/50\n",
            "\n",
            "Epoch 00035: LearningRateScheduler setting learning rate to 0.00025325.\n",
            "60000/60000 [==============================] - 3s 55us/step - loss: 0.0090 - acc: 0.9970 - val_loss: 0.0251 - val_acc: 0.9938\n",
            "Epoch 36/50\n",
            "\n",
            "Epoch 00036: LearningRateScheduler setting learning rate to 0.0002466091.\n",
            "60000/60000 [==============================] - 3s 55us/step - loss: 0.0098 - acc: 0.9966 - val_loss: 0.0259 - val_acc: 0.9939\n",
            "Epoch 37/50\n",
            "\n",
            "Epoch 00037: LearningRateScheduler setting learning rate to 0.0002403076.\n",
            "60000/60000 [==============================] - 3s 55us/step - loss: 0.0091 - acc: 0.9967 - val_loss: 0.0260 - val_acc: 0.9938\n",
            "Epoch 38/50\n",
            "\n",
            "Epoch 00038: LearningRateScheduler setting learning rate to 0.0002343201.\n",
            "60000/60000 [==============================] - 3s 56us/step - loss: 0.0092 - acc: 0.9970 - val_loss: 0.0252 - val_acc: 0.9940\n",
            "Epoch 39/50\n",
            "\n",
            "Epoch 00039: LearningRateScheduler setting learning rate to 0.0002286237.\n",
            "60000/60000 [==============================] - 3s 55us/step - loss: 0.0093 - acc: 0.9968 - val_loss: 0.0251 - val_acc: 0.9936\n",
            "Epoch 40/50\n",
            "\n",
            "Epoch 00040: LearningRateScheduler setting learning rate to 0.0002231977.\n",
            "60000/60000 [==============================] - 3s 55us/step - loss: 0.0080 - acc: 0.9971 - val_loss: 0.0254 - val_acc: 0.9933\n",
            "Epoch 41/50\n",
            "\n",
            "Epoch 00041: LearningRateScheduler setting learning rate to 0.0002180233.\n",
            "60000/60000 [==============================] - 3s 55us/step - loss: 0.0083 - acc: 0.9970 - val_loss: 0.0251 - val_acc: 0.9935\n",
            "Epoch 42/50\n",
            "\n",
            "Epoch 00042: LearningRateScheduler setting learning rate to 0.0002130833.\n",
            "60000/60000 [==============================] - 3s 56us/step - loss: 0.0087 - acc: 0.9972 - val_loss: 0.0252 - val_acc: 0.9936\n",
            "Epoch 43/50\n",
            "\n",
            "Epoch 00043: LearningRateScheduler setting learning rate to 0.0002083623.\n",
            "60000/60000 [==============================] - 3s 58us/step - loss: 0.0089 - acc: 0.9968 - val_loss: 0.0257 - val_acc: 0.9937\n",
            "Epoch 44/50\n",
            "\n",
            "Epoch 00044: LearningRateScheduler setting learning rate to 0.0002038459.\n",
            "60000/60000 [==============================] - 4s 59us/step - loss: 0.0093 - acc: 0.9969 - val_loss: 0.0254 - val_acc: 0.9933\n",
            "Epoch 45/50\n",
            "\n",
            "Epoch 00045: LearningRateScheduler setting learning rate to 0.0001995211.\n",
            "60000/60000 [==============================] - 3s 57us/step - loss: 0.0093 - acc: 0.9969 - val_loss: 0.0259 - val_acc: 0.9936\n",
            "Epoch 46/50\n",
            "\n",
            "Epoch 00046: LearningRateScheduler setting learning rate to 0.0001953761.\n",
            "60000/60000 [==============================] - 4s 59us/step - loss: 0.0095 - acc: 0.9967 - val_loss: 0.0254 - val_acc: 0.9936\n",
            "Epoch 47/50\n",
            "\n",
            "Epoch 00047: LearningRateScheduler setting learning rate to 0.0001913998.\n",
            "60000/60000 [==============================] - 4s 59us/step - loss: 0.0093 - acc: 0.9967 - val_loss: 0.0252 - val_acc: 0.9935\n",
            "Epoch 48/50\n",
            "\n",
            "Epoch 00048: LearningRateScheduler setting learning rate to 0.0001875821.\n",
            "60000/60000 [==============================] - 3s 56us/step - loss: 0.0091 - acc: 0.9965 - val_loss: 0.0247 - val_acc: 0.9936\n",
            "Epoch 49/50\n",
            "\n",
            "Epoch 00049: LearningRateScheduler setting learning rate to 0.0001839137.\n",
            "60000/60000 [==============================] - 3s 56us/step - loss: 0.0086 - acc: 0.9969 - val_loss: 0.0255 - val_acc: 0.9930\n",
            "Epoch 50/50\n",
            "\n",
            "Epoch 00050: LearningRateScheduler setting learning rate to 0.000180386.\n",
            "60000/60000 [==============================] - 3s 55us/step - loss: 0.0090 - acc: 0.9968 - val_loss: 0.0253 - val_acc: 0.9935\n"
          ],
          "name": "stdout"
        },
        {
          "output_type": "execute_result",
          "data": {
            "text/plain": [
              "<keras.callbacks.History at 0x7f23688eab70>"
            ]
          },
          "metadata": {
            "tags": []
          },
          "execution_count": 104
        }
      ]
    },
    {
      "cell_type": "code",
      "metadata": {
        "id": "Dr_pjcKkOjBK",
        "colab_type": "code",
        "outputId": "95818a07-637c-4b10-8893-eb5d6f693470",
        "colab": {
          "base_uri": "https://localhost:8080/",
          "height": 34
        }
      },
      "source": [
        "# Comments:\n",
        "# 1. Evaluate the trained model on test dataset\n",
        "# 2. Print evaluated validation accuracy score.\n",
        "\n",
        "score = model.evaluate(X_test, Y_test, verbose=0)\n",
        "print(score)"
      ],
      "execution_count": 105,
      "outputs": [
        {
          "output_type": "stream",
          "text": [
            "[0.02527835911239722, 0.9935]\n"
          ],
          "name": "stdout"
        }
      ]
    },
    {
      "cell_type": "code",
      "metadata": {
        "id": "XejVDhlSOwiv",
        "colab_type": "code",
        "colab": {}
      },
      "source": [
        "# Comments:\n",
        "# 1. Generate the predictions for the test dataset.\n",
        "# 2. These predictions are in 1-hot vector format\n",
        "#\n",
        "\n",
        "y_pred = model.predict(X_test)"
      ],
      "execution_count": 0,
      "outputs": []
    },
    {
      "cell_type": "code",
      "metadata": {
        "id": "P8Ax6ZblO03r",
        "colab_type": "code",
        "outputId": "90324782-498a-43c1-f9c9-a5b7a05cf29f",
        "colab": {
          "base_uri": "https://localhost:8080/",
          "height": 340
        }
      },
      "source": [
        "# Comments:\n",
        "# 1. Print the first 9 Predictions\n",
        "# 2. Only prediction for digit 4 are correct rest are wrong.\n",
        "# 3. Correct predictions for digit 4:\n",
        "#    [0.  0.  0.  0.  1.  0.  0.  0.  0.  0. ]\n",
        "#    [0.  0.  0.  0.  1.  0.  0.  0.  0.  0. ]\n",
        "#\n",
        "\n",
        "print(y_pred[:9])\n",
        "print(y_test[:9])"
      ],
      "execution_count": 107,
      "outputs": [
        {
          "output_type": "stream",
          "text": [
            "[[9.4483554e-10 9.4483554e-10 9.4483554e-10 9.4483554e-10 9.4483554e-10\n",
            "  9.4483554e-10 9.4483554e-10 1.0000000e+00 9.4483554e-10 2.2057220e-09]\n",
            " [1.0973044e-09 1.5965745e-09 1.0000000e+00 1.9125979e-11 1.9125979e-11\n",
            "  1.9125979e-11 3.1452571e-10 1.9125979e-11 1.9125979e-11 1.9125979e-11]\n",
            " [8.2178771e-11 1.0000000e+00 8.2178771e-11 8.2178771e-11 7.0735084e-10\n",
            "  8.2178771e-11 1.5422751e-10 3.2886793e-09 8.2178771e-11 8.2178771e-11]\n",
            " [9.9999976e-01 1.0612755e-10 1.0612755e-10 1.0612755e-10 1.0612755e-10\n",
            "  1.0612755e-10 2.8312144e-07 1.0612755e-10 1.7497116e-09 5.9051558e-10]\n",
            " [1.4603388e-10 1.4603388e-10 1.4603388e-10 1.4603388e-10 1.0000000e+00\n",
            "  1.4603388e-10 1.4603388e-10 1.4603388e-10 1.4603388e-10 7.0891124e-09]\n",
            " [1.3994740e-10 1.0000000e+00 1.3994740e-10 1.3994740e-10 3.3054370e-10\n",
            "  1.3994740e-10 1.9600435e-10 2.9953995e-09 1.3994740e-10 1.3994740e-10]\n",
            " [7.7809137e-09 4.7592133e-07 7.7809137e-09 7.7809137e-09 9.9999869e-01\n",
            "  7.7809137e-09 7.7809137e-09 3.2187035e-07 1.0971654e-08 4.4786424e-07]\n",
            " [4.3319948e-10 4.3319948e-10 4.3319948e-10 4.3319948e-10 6.6685294e-07\n",
            "  4.3319948e-10 4.3319948e-10 2.6517659e-09 4.2464343e-09 9.9999928e-01]\n",
            " [4.6743662e-07 4.8373185e-08 4.8373185e-08 4.8373185e-08 4.8373185e-08\n",
            "  9.1394323e-01 8.5871473e-02 4.8373185e-08 1.8436786e-04 1.4244092e-07]]\n",
            "[7 2 1 0 4 1 4 9 5]\n"
          ],
          "name": "stdout"
        }
      ]
    },
    {
      "cell_type": "code",
      "metadata": {
        "id": "7LHv6j3nO5fU",
        "colab_type": "code",
        "outputId": "044544c2-9c4c-40e8-c6d8-f0300bd8f6f2",
        "colab": {
          "base_uri": "https://localhost:8080/",
          "height": 54
        }
      },
      "source": [
        "# Comment\n",
        "# Create Layer dictionary\n",
        "\n",
        "layer_dict = dict([(layer.name, layer) for layer in model.layers])\n",
        "print(layer_dict)"
      ],
      "execution_count": 108,
      "outputs": [
        {
          "output_type": "stream",
          "text": [
            "{'conv2d_228': <keras.layers.convolutional.Conv2D object at 0x7f2391d7b828>, 'batch_normalization_203': <keras.layers.normalization.BatchNormalization object at 0x7f2391d7b4a8>, 'dropout_203': <keras.layers.core.Dropout object at 0x7f23922d59e8>, 'conv2d_229': <keras.layers.convolutional.Conv2D object at 0x7f23922d5cf8>, 'batch_normalization_204': <keras.layers.normalization.BatchNormalization object at 0x7f2391d7b2e8>, 'dropout_204': <keras.layers.core.Dropout object at 0x7f2391c55d30>, 'max_pooling2d_29': <keras.layers.pooling.MaxPooling2D object at 0x7f2391b85978>, 'conv2d_230': <keras.layers.convolutional.Conv2D object at 0x7f2391c8d550>, 'batch_normalization_205': <keras.layers.normalization.BatchNormalization object at 0x7f2391bd49b0>, 'dropout_205': <keras.layers.core.Dropout object at 0x7f2391ad06a0>, 'conv2d_231': <keras.layers.convolutional.Conv2D object at 0x7f2391ad0e80>, 'batch_normalization_206': <keras.layers.normalization.BatchNormalization object at 0x7f2391bebe80>, 'dropout_206': <keras.layers.core.Dropout object at 0x7f23919c8da0>, 'conv2d_232': <keras.layers.convolutional.Conv2D object at 0x7f2391a59160>, 'batch_normalization_207': <keras.layers.normalization.BatchNormalization object at 0x7f2391af2e10>, 'dropout_207': <keras.layers.core.Dropout object at 0x7f23919134e0>, 'conv2d_233': <keras.layers.convolutional.Conv2D object at 0x7f23918e2e10>, 'batch_normalization_208': <keras.layers.normalization.BatchNormalization object at 0x7f23919ab828>, 'dropout_208': <keras.layers.core.Dropout object at 0x7f239179a5c0>, 'conv2d_234': <keras.layers.convolutional.Conv2D object at 0x7f23918345c0>, 'batch_normalization_209': <keras.layers.normalization.BatchNormalization object at 0x7f2391863ac8>, 'dropout_209': <keras.layers.core.Dropout object at 0x7f23916ee898>, 'conv2d_235': <keras.layers.convolutional.Conv2D object at 0x7f23916ee940>, 'flatten_27': <keras.layers.core.Flatten object at 0x7f2391702b00>, 'activation_27': <keras.layers.core.Activation object at 0x7f239158a518>}\n"
          ],
          "name": "stdout"
        }
      ]
    },
    {
      "cell_type": "code",
      "metadata": {
        "id": "4KUoJGsdPG-u",
        "colab_type": "code",
        "outputId": "d80c4976-e4a5-4179-b71f-c8391c0580f6",
        "colab": {
          "base_uri": "https://localhost:8080/",
          "height": 741
        }
      },
      "source": [
        "# Comment\n",
        "# Visualize image in filter\n",
        "\n",
        "import numpy as np\n",
        "from matplotlib import pyplot as plt\n",
        "from keras import backend as K\n",
        "%matplotlib inline\n",
        "\n",
        "# util function to convert a tensor into a valid image\n",
        "def deprocess_image(x):\n",
        "    # normalize tensor: center on 0., ensure std is 0.1\n",
        "    x -= x.mean()\n",
        "    x /= (x.std() + 1e-5)\n",
        "    x *= 0.1\n",
        "\n",
        "    # clip to [0, 1]\n",
        "    x += 0.5\n",
        "    x = np.clip(x, 0, 1)\n",
        "\n",
        "    # convert to RGB array\n",
        "    x *= 255\n",
        "    #x = x.transpose((1, 2, 0))\n",
        "    x = np.clip(x, 0, 255).astype('uint8')\n",
        "    return x\n",
        "\n",
        "def vis_img_in_filter(img = np.array(X_train[2]).reshape((1, 28, 28, 1)).astype(np.float64), \n",
        "                      layer_name = 'conv2d_228'):\n",
        "    layer_output = layer_dict[layer_name].output\n",
        "    img_ascs = list()\n",
        "    for filter_index in range(layer_output.shape[3]):\n",
        "        # build a loss function that maximizes the activation\n",
        "        # of the nth filter of the layer considered\n",
        "        loss = K.mean(layer_output[:, :, :, filter_index])\n",
        "\n",
        "        # compute the gradient of the input picture wrt this loss\n",
        "        grads = K.gradients(loss, model.input)[0]\n",
        "\n",
        "        # normalization trick: we normalize the gradient\n",
        "        grads /= (K.sqrt(K.mean(K.square(grads))) + 1e-5)\n",
        "\n",
        "        # this function returns the loss and grads given the input picture\n",
        "        iterate = K.function([model.input], [loss, grads])\n",
        "\n",
        "        # step size for gradient ascent\n",
        "        step = 5.\n",
        "\n",
        "        img_asc = np.array(img)\n",
        "        # run gradient ascent for 20 steps\n",
        "        for i in range(20):\n",
        "            loss_value, grads_value = iterate([img_asc])\n",
        "            img_asc += grads_value * step\n",
        "\n",
        "        img_asc = img_asc[0]\n",
        "        img_ascs.append(deprocess_image(img_asc).reshape((28, 28)))\n",
        "        \n",
        "    if layer_output.shape[3] >= 35:\n",
        "        plot_x, plot_y = 6, 6\n",
        "    elif layer_output.shape[3] >= 23:\n",
        "        plot_x, plot_y = 4, 6\n",
        "    elif layer_output.shape[3] >= 11:\n",
        "        plot_x, plot_y = 2, 6\n",
        "    else:\n",
        "        plot_x, plot_y = 1, 2\n",
        "    fig, ax = plt.subplots(plot_x, plot_y, figsize = (12, 12))\n",
        "    ax[0, 0].imshow(img.reshape((28, 28)), cmap = 'gray')\n",
        "    ax[0, 0].set_title('Input image')\n",
        "    fig.suptitle('Input image and %s filters' % (layer_name,))\n",
        "    fig.tight_layout(pad = 0.3, rect = [0, 0, 0.9, 0.9])\n",
        "    for (x, y) in [(i, j) for i in range(plot_x) for j in range(plot_y)]:\n",
        "        if x == 0 and y == 0:\n",
        "            continue\n",
        "        ax[x, y].imshow(img_ascs[x * plot_y + y - 1], cmap = 'gray')\n",
        "        ax[x, y].set_title('filter %d' % (x * plot_y + y - 1))\n",
        "\n",
        "vis_img_in_filter()"
      ],
      "execution_count": 110,
      "outputs": [
        {
          "output_type": "display_data",
          "data": {
            "image/png": "[encoded data removed]",
            "text/plain": [
              "<Figure size 864x864 with 12 Axes>"
            ]
          },
          "metadata": {
            "tags": []
          }
        }
      ]
    }
  ]
}