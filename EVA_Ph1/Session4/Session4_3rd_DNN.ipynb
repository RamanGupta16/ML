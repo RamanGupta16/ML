{
  "nbformat": 4,
  "nbformat_minor": 0,
  "metadata": {
    "colab": {
      "name": "Session4_3rd_DNN.ipynb",
      "version": "0.3.2",
      "provenance": [],
      "include_colab_link": true
    },
    "kernelspec": {
      "name": "python3",
      "display_name": "Python 3"
    },
    "accelerator": "GPU"
  },
  "cells": [
    {
      "cell_type": "markdown",
      "metadata": {
        "id": "view-in-github",
        "colab_type": "text"
      },
      "source": [
        "<a href=\"https://colab.research.google.com/github/RamanGupta16/ML/blob/master/EVA_Ph1/Session4/Session4_3rd_DNN.ipynb\" target=\"_parent\"><img src=\"https://colab.research.google.com/assets/colab-badge.svg\" alt=\"Open In Colab\"/></a>"
      ]
    },
    {
      "cell_type": "code",
      "metadata": {
        "id": "OyB6Xxhdj1Pn",
        "colab_type": "code",
        "colab": {}
      },
      "source": [
        "# Session4 3rd DNN \n",
        "# Additions on top of 2nd DNN\n",
        "# 1. Batch Normalization\n",
        "# 2. Dropout\n",
        "\n",
        "# Modifications on top of 2nd DNN\n",
        "# 4. Epochs=30\n",
        "\n",
        "# Reduced parameters to 14,692\n",
        "# Batch Size is same 128\n",
        "\n",
        "# RESULTS SUMMARY\n",
        "# Parameters: 14,692\n",
        "# final 99.53 best validation accuracy in epoch 21"
      ],
      "execution_count": 0,
      "outputs": []
    },
    {
      "cell_type": "code",
      "metadata": {
        "id": "MW3CDKhYkfJS",
        "colab_type": "code",
        "colab": {}
      },
      "source": [
        "# Comments:\n",
        "# Install keras onto colab VM \n",
        "# Import numpy package\n",
        "# Import keras models, layers, convolution, dropout\n",
        "# Import MNIST dataset\n",
        "#\n",
        "\n",
        "# https://keras.io/\n",
        "!pip install -q keras\n",
        "\n",
        "import keras\n",
        "import numpy as np\n",
        "\n",
        "from keras.models import Sequential\n",
        "from keras.layers import Dense, Dropout, Activation, Flatten, Add, BatchNormalization\n",
        "from keras.layers import Convolution2D, MaxPooling2D\n",
        "from keras.utils import np_utils\n",
        "\n",
        "from keras.datasets import mnist"
      ],
      "execution_count": 0,
      "outputs": []
    },
    {
      "cell_type": "code",
      "metadata": {
        "id": "pncLjzv1kb5f",
        "colab_type": "code",
        "outputId": "c192a130-c0bb-477d-c487-c216c0cb5eb2",
        "colab": {
          "base_uri": "https://localhost:8080/",
          "height": 303
        }
      },
      "source": [
        "# Comments:\n",
        "# 1. Load MNIST dataset. It loads both Training and Test datasets\n",
        "# 2. Training set has 60,000 image samples. X_train are images and y_train is label of images\n",
        "# 3. Test set of 10,000 image samples. y_test are images and y_train is label of images\n",
        "# \n",
        "\n",
        "(X_train, y_train), (X_test, y_test) = mnist.load_data()\n",
        "\n",
        "# Comments:\n",
        "# 1. Training set has 60,000 image samples of size 28x28 pixels\n",
        "# 2. Show '5' hand written digit image\n",
        "#\n",
        "print (X_train.shape)\n",
        "from matplotlib import pyplot as plt\n",
        "%matplotlib inline\n",
        "plt.imshow(X_train[0])"
      ],
      "execution_count": 45,
      "outputs": [
        {
          "output_type": "stream",
          "text": [
            "(60000, 28, 28)\n"
          ],
          "name": "stdout"
        },
        {
          "output_type": "execute_result",
          "data": {
            "text/plain": [
              "<matplotlib.image.AxesImage at 0x7fe7389e9240>"
            ]
          },
          "metadata": {
            "tags": []
          },
          "execution_count": 45
        },
        {
          "output_type": "display_data",
          "data": {
            "image/png": "[encoded data removed]",
            "text/plain": [
              "<Figure size 432x288 with 1 Axes>"
            ]
          },
          "metadata": {
            "tags": []
          }
        }
      ]
    },
    {
      "cell_type": "code",
      "metadata": {
        "id": "oSgzrXqQk_Yq",
        "colab_type": "code",
        "colab": {}
      },
      "source": [
        "# Comments:\n",
        "# 1. Reshape the 60,000 training data with channel dimenison as 1. So each image is 28x28x1 dimension\n",
        "# 2. Reshape the 10,000 test data with channel dimenison as 1. So each image is 28x28x1 dimension\n",
        "#\n",
        "\n",
        "X_train = X_train.reshape(X_train.shape[0], 28, 28,1)\n",
        "X_test = X_test.reshape(X_test.shape[0], 28, 28,1)\n",
        "\n",
        "# Comments:\n",
        "# 1. Divide training data by 255 so that pixels become float values betwee 0..1\n",
        "# 2. Divide test data by 255 so that pixels become float values betwee 0..1\n",
        "#\n",
        "\n",
        "X_train = X_train.astype('float32')\n",
        "X_test = X_test.astype('float32')\n",
        "X_train /= 255\n",
        "X_test /= 255"
      ],
      "execution_count": 0,
      "outputs": []
    },
    {
      "cell_type": "code",
      "metadata": {
        "id": "Rcbh2lSGlaix",
        "colab_type": "code",
        "outputId": "fbf50c70-2009-4700-e197-c7a61b1c5e07",
        "colab": {
          "base_uri": "https://localhost:8080/",
          "height": 187
        }
      },
      "source": [
        "# Comments:\n",
        "# 1. Print the first 10 labels of training data\n",
        "#\n",
        "y_train[:10]\n",
        "\n",
        "# Comments:\n",
        "# 1. Convert 1-dimensional train and test labels into one-hot vector of floats\n",
        "#    where only 1 value in vector is high(hot) indicating the label of image.\n",
        "#    Eaxmple [0., 0., 0., 0., 0., 1., 0., 0., 0., 0.] ==> 5\n",
        "\n",
        "# Convert 1-dimensional class arrays to 10-dimensional class matrices\n",
        "Y_train = np_utils.to_categorical(y_train, 10)\n",
        "Y_test = np_utils.to_categorical(y_test, 10)\n",
        "\n",
        "# Comments:\n",
        "# 1. Print the first 10 training label as one-hot vectors.\n",
        "#    Eaxmple [0., 0., 0., 0., 0., 1., 0., 0., 0., 0.] ==> 5\n",
        "\n",
        "Y_train[:10]"
      ],
      "execution_count": 47,
      "outputs": [
        {
          "output_type": "execute_result",
          "data": {
            "text/plain": [
              "array([[0., 0., 0., 0., 0., 1., 0., 0., 0., 0.],\n",
              "       [1., 0., 0., 0., 0., 0., 0., 0., 0., 0.],\n",
              "       [0., 0., 0., 0., 1., 0., 0., 0., 0., 0.],\n",
              "       [0., 1., 0., 0., 0., 0., 0., 0., 0., 0.],\n",
              "       [0., 0., 0., 0., 0., 0., 0., 0., 0., 1.],\n",
              "       [0., 0., 1., 0., 0., 0., 0., 0., 0., 0.],\n",
              "       [0., 1., 0., 0., 0., 0., 0., 0., 0., 0.],\n",
              "       [0., 0., 0., 1., 0., 0., 0., 0., 0., 0.],\n",
              "       [0., 1., 0., 0., 0., 0., 0., 0., 0., 0.],\n",
              "       [0., 0., 0., 0., 1., 0., 0., 0., 0., 0.]], dtype=float32)"
            ]
          },
          "metadata": {
            "tags": []
          },
          "execution_count": 47
        }
      ]
    },
    {
      "cell_type": "code",
      "metadata": {
        "id": "8IcBwNRenE-X",
        "colab_type": "code",
        "outputId": "4e4e7187-b79f-4d2d-cb68-904eccf52492",
        "colab": {
          "base_uri": "https://localhost:8080/",
          "height": 1431
        }
      },
      "source": [
        "# Comments:\n",
        "# 1. Create the model\n",
        "# 2. Add convolution Layers\n",
        "\n",
        "\n",
        "from keras.layers import Activation\n",
        "model = Sequential()\n",
        "\n",
        "model.add(Convolution2D(12, 3, 3, activation='relu', input_shape=(28,28,1))) # 26x26, RF 3x3\n",
        "model.add(BatchNormalization())\n",
        "model.add(Dropout(0.1))\n",
        "\n",
        "model.add(Convolution2D(16, 3, 3, activation='relu')) #  24x24, 5x5\n",
        "model.add(BatchNormalization())\n",
        "model.add(Dropout(0.1))\n",
        "\n",
        "model.add(Convolution2D(20, 3, 3, activation='relu')) #  22x22, 7x7\n",
        "model.add(BatchNormalization())\n",
        "model.add(Dropout(0.1))\n",
        "\n",
        "model.add(MaxPooling2D(pool_size=(2, 2))) # 11x11, 14x14\n",
        "\n",
        "model.add(Convolution2D(12, 1, 1, activation='relu')) # 11x11, 14x14\n",
        "model.add(BatchNormalization())\n",
        "model.add(Dropout(0.1))\n",
        "\n",
        "model.add(Convolution2D(16, 3, 3, activation='relu')) # 9x9, 16x16\n",
        "model.add(BatchNormalization())\n",
        "model.add(Dropout(0.1))\n",
        "\n",
        "model.add(Convolution2D(20, 3, 3, activation='relu')) # 7x7, 18x18\n",
        "model.add(BatchNormalization())\n",
        "model.add(Dropout(0.1))\n",
        "\n",
        "model.add(Convolution2D(10, 1, 1, activation='relu')) # 7x7, 18x18\n",
        "model.add(BatchNormalization())\n",
        "model.add(Dropout(0.1))\n",
        "\n",
        "model.add(Convolution2D(12, 3, 3, activation='relu')) # 5x5, 20x20\n",
        "model.add(BatchNormalization())\n",
        "model.add(Dropout(0.1))\n",
        "\n",
        "model.add(Convolution2D(16, 3, 3, activation='relu')) # 3x3, 22x22\n",
        "model.add(BatchNormalization())\n",
        "model.add(Dropout(0.1))\n",
        "\n",
        "model.add(Convolution2D(10, 3, 3)) # 1x1x10, 24x24\n",
        "\n",
        "model.add(Flatten())\n",
        "model.add(Activation('softmax'))\n",
        "\n",
        "# Summarize the model\n",
        "model.summary()"
      ],
      "execution_count": 54,
      "outputs": [
        {
          "output_type": "stream",
          "text": [
            "/usr/local/lib/python3.6/dist-packages/ipykernel_launcher.py:5: UserWarning: Update your `Conv2D` call to the Keras 2 API: `Conv2D(12, (3, 3), activation=\"relu\", input_shape=(28, 28, 1...)`\n",
            "  \"\"\"\n",
            "/usr/local/lib/python3.6/dist-packages/ipykernel_launcher.py:9: UserWarning: Update your `Conv2D` call to the Keras 2 API: `Conv2D(16, (3, 3), activation=\"relu\")`\n",
            "  if __name__ == '__main__':\n",
            "/usr/local/lib/python3.6/dist-packages/ipykernel_launcher.py:13: UserWarning: Update your `Conv2D` call to the Keras 2 API: `Conv2D(20, (3, 3), activation=\"relu\")`\n",
            "  del sys.path[0]\n",
            "/usr/local/lib/python3.6/dist-packages/ipykernel_launcher.py:19: UserWarning: Update your `Conv2D` call to the Keras 2 API: `Conv2D(12, (1, 1), activation=\"relu\")`\n",
            "/usr/local/lib/python3.6/dist-packages/ipykernel_launcher.py:23: UserWarning: Update your `Conv2D` call to the Keras 2 API: `Conv2D(16, (3, 3), activation=\"relu\")`\n",
            "/usr/local/lib/python3.6/dist-packages/ipykernel_launcher.py:27: UserWarning: Update your `Conv2D` call to the Keras 2 API: `Conv2D(20, (3, 3), activation=\"relu\")`\n",
            "/usr/local/lib/python3.6/dist-packages/ipykernel_launcher.py:31: UserWarning: Update your `Conv2D` call to the Keras 2 API: `Conv2D(10, (1, 1), activation=\"relu\")`\n",
            "/usr/local/lib/python3.6/dist-packages/ipykernel_launcher.py:35: UserWarning: Update your `Conv2D` call to the Keras 2 API: `Conv2D(12, (3, 3), activation=\"relu\")`\n"
          ],
          "name": "stderr"
        },
        {
          "output_type": "stream",
          "text": [
            "_________________________________________________________________\n",
            "Layer (type)                 Output Shape              Param #   \n",
            "=================================================================\n",
            "conv2d_177 (Conv2D)          (None, 26, 26, 12)        120       \n",
            "_________________________________________________________________\n",
            "batch_normalization_158 (Bat (None, 26, 26, 12)        48        \n",
            "_________________________________________________________________\n",
            "dropout_149 (Dropout)        (None, 26, 26, 12)        0         \n",
            "_________________________________________________________________\n",
            "conv2d_178 (Conv2D)          (None, 24, 24, 16)        1744      \n",
            "_________________________________________________________________\n",
            "batch_normalization_159 (Bat (None, 24, 24, 16)        64        \n",
            "_________________________________________________________________\n",
            "dropout_150 (Dropout)        (None, 24, 24, 16)        0         \n",
            "_________________________________________________________________\n",
            "conv2d_179 (Conv2D)          (None, 22, 22, 20)        2900      \n",
            "_________________________________________________________________\n",
            "batch_normalization_160 (Bat (None, 22, 22, 20)        80        \n",
            "_________________________________________________________________\n",
            "dropout_151 (Dropout)        (None, 22, 22, 20)        0         \n",
            "_________________________________________________________________\n",
            "max_pooling2d_19 (MaxPooling (None, 11, 11, 20)        0         \n",
            "_________________________________________________________________\n",
            "conv2d_180 (Conv2D)          (None, 11, 11, 12)        252       \n",
            "_________________________________________________________________\n",
            "batch_normalization_161 (Bat (None, 11, 11, 12)        48        \n",
            "_________________________________________________________________\n",
            "dropout_152 (Dropout)        (None, 11, 11, 12)        0         \n",
            "_________________________________________________________________\n",
            "conv2d_181 (Conv2D)          (None, 9, 9, 16)          1744      \n",
            "_________________________________________________________________\n",
            "batch_normalization_162 (Bat (None, 9, 9, 16)          64        \n",
            "_________________________________________________________________\n",
            "dropout_153 (Dropout)        (None, 9, 9, 16)          0         \n",
            "_________________________________________________________________\n",
            "conv2d_182 (Conv2D)          (None, 7, 7, 20)          2900      \n",
            "_________________________________________________________________\n",
            "batch_normalization_163 (Bat (None, 7, 7, 20)          80        \n",
            "_________________________________________________________________\n",
            "dropout_154 (Dropout)        (None, 7, 7, 20)          0         \n",
            "_________________________________________________________________\n",
            "conv2d_183 (Conv2D)          (None, 7, 7, 10)          210       \n",
            "_________________________________________________________________\n",
            "batch_normalization_164 (Bat (None, 7, 7, 10)          40        \n",
            "_________________________________________________________________\n",
            "dropout_155 (Dropout)        (None, 7, 7, 10)          0         \n",
            "_________________________________________________________________\n",
            "conv2d_184 (Conv2D)          (None, 5, 5, 12)          1092      \n",
            "_________________________________________________________________\n",
            "batch_normalization_165 (Bat (None, 5, 5, 12)          48        \n",
            "_________________________________________________________________\n",
            "dropout_156 (Dropout)        (None, 5, 5, 12)          0         \n",
            "_________________________________________________________________\n",
            "conv2d_185 (Conv2D)          (None, 3, 3, 16)          1744      \n",
            "_________________________________________________________________\n",
            "batch_normalization_166 (Bat (None, 3, 3, 16)          64        \n",
            "_________________________________________________________________\n",
            "dropout_157 (Dropout)        (None, 3, 3, 16)          0         \n",
            "_________________________________________________________________\n",
            "conv2d_186 (Conv2D)          (None, 1, 1, 10)          1450      \n",
            "_________________________________________________________________\n",
            "flatten_19 (Flatten)         (None, 10)                0         \n",
            "_________________________________________________________________\n",
            "activation_19 (Activation)   (None, 10)                0         \n",
            "=================================================================\n",
            "Total params: 14,692\n",
            "Trainable params: 14,424\n",
            "Non-trainable params: 268\n",
            "_________________________________________________________________\n"
          ],
          "name": "stdout"
        },
        {
          "output_type": "stream",
          "text": [
            "/usr/local/lib/python3.6/dist-packages/ipykernel_launcher.py:39: UserWarning: Update your `Conv2D` call to the Keras 2 API: `Conv2D(16, (3, 3), activation=\"relu\")`\n",
            "/usr/local/lib/python3.6/dist-packages/ipykernel_launcher.py:43: UserWarning: Update your `Conv2D` call to the Keras 2 API: `Conv2D(10, (3, 3))`\n"
          ],
          "name": "stderr"
        }
      ]
    },
    {
      "cell_type": "code",
      "metadata": {
        "id": "2ViEgB1kOTfI",
        "colab_type": "code",
        "colab": {}
      },
      "source": [
        "# Comment\n",
        "# 1. Compile the model and define loss function, optimization and metrics to measure the prediction\n",
        "\n",
        "model.compile(loss='categorical_crossentropy',\n",
        "             optimizer='adam',\n",
        "             metrics=['accuracy'])"
      ],
      "execution_count": 0,
      "outputs": []
    },
    {
      "cell_type": "code",
      "metadata": {
        "id": "NY4GoY8UOenr",
        "colab_type": "code",
        "outputId": "b8a96f24-4b20-489e-9226-cfe7034d223d",
        "colab": {
          "base_uri": "https://localhost:8080/",
          "height": 1125
        }
      },
      "source": [
        "# Comments:\n",
        "# 1. Train the model for 10 epochs with 32 batch size\n",
        "\n",
        "model.fit(X_train, Y_train, batch_size=128, nb_epoch=30, verbose=1, validation_data=(X_test, Y_test))"
      ],
      "execution_count": 59,
      "outputs": [
        {
          "output_type": "stream",
          "text": [
            "Train on 60000 samples, validate on 10000 samples\n",
            "Epoch 1/30\n",
            "\r  128/60000 [..............................] - ETA: 1:09 - loss: 0.0340 - acc: 0.9844"
          ],
          "name": "stdout"
        },
        {
          "output_type": "stream",
          "text": [
            "/usr/local/lib/python3.6/dist-packages/ipykernel_launcher.py:2: UserWarning: The `nb_epoch` argument in `fit` has been renamed `epochs`.\n",
            "  \n"
          ],
          "name": "stderr"
        },
        {
          "output_type": "stream",
          "text": [
            "60000/60000 [==============================] - 9s 154us/step - loss: 0.0247 - acc: 0.9920 - val_loss: 0.0171 - val_acc: 0.9941\n",
            "Epoch 2/30\n",
            "60000/60000 [==============================] - 9s 146us/step - loss: 0.0219 - acc: 0.9929 - val_loss: 0.0207 - val_acc: 0.9943\n",
            "Epoch 3/30\n",
            "60000/60000 [==============================] - 9s 145us/step - loss: 0.0223 - acc: 0.9929 - val_loss: 0.0212 - val_acc: 0.9941\n",
            "Epoch 4/30\n",
            "60000/60000 [==============================] - 9s 145us/step - loss: 0.0219 - acc: 0.9929 - val_loss: 0.0196 - val_acc: 0.9940\n",
            "Epoch 5/30\n",
            "60000/60000 [==============================] - 9s 145us/step - loss: 0.0235 - acc: 0.9926 - val_loss: 0.0227 - val_acc: 0.9938\n",
            "Epoch 6/30\n",
            "60000/60000 [==============================] - 10s 159us/step - loss: 0.0217 - acc: 0.9930 - val_loss: 0.0202 - val_acc: 0.9939\n",
            "Epoch 7/30\n",
            "60000/60000 [==============================] - 9s 147us/step - loss: 0.0208 - acc: 0.9937 - val_loss: 0.0199 - val_acc: 0.9935\n",
            "Epoch 8/30\n",
            "60000/60000 [==============================] - 9s 145us/step - loss: 0.0216 - acc: 0.9929 - val_loss: 0.0185 - val_acc: 0.9946\n",
            "Epoch 9/30\n",
            "60000/60000 [==============================] - 9s 145us/step - loss: 0.0211 - acc: 0.9933 - val_loss: 0.0190 - val_acc: 0.9946\n",
            "Epoch 10/30\n",
            "60000/60000 [==============================] - 9s 145us/step - loss: 0.0209 - acc: 0.9930 - val_loss: 0.0206 - val_acc: 0.9940\n",
            "Epoch 11/30\n",
            "60000/60000 [==============================] - 9s 145us/step - loss: 0.0219 - acc: 0.9930 - val_loss: 0.0179 - val_acc: 0.9939\n",
            "Epoch 12/30\n",
            "60000/60000 [==============================] - 9s 145us/step - loss: 0.0210 - acc: 0.9932 - val_loss: 0.0238 - val_acc: 0.9934\n",
            "Epoch 13/30\n",
            "60000/60000 [==============================] - 9s 145us/step - loss: 0.0206 - acc: 0.9933 - val_loss: 0.0208 - val_acc: 0.9935\n",
            "Epoch 14/30\n",
            "60000/60000 [==============================] - 9s 145us/step - loss: 0.0208 - acc: 0.9933 - val_loss: 0.0185 - val_acc: 0.9939\n",
            "Epoch 15/30\n",
            "60000/60000 [==============================] - 9s 158us/step - loss: 0.0205 - acc: 0.9933 - val_loss: 0.0199 - val_acc: 0.9944\n",
            "Epoch 16/30\n",
            "60000/60000 [==============================] - 9s 149us/step - loss: 0.0191 - acc: 0.9937 - val_loss: 0.0192 - val_acc: 0.9952\n",
            "Epoch 17/30\n",
            "60000/60000 [==============================] - 9s 146us/step - loss: 0.0201 - acc: 0.9937 - val_loss: 0.0190 - val_acc: 0.9940\n",
            "Epoch 18/30\n",
            "60000/60000 [==============================] - 9s 145us/step - loss: 0.0199 - acc: 0.9935 - val_loss: 0.0208 - val_acc: 0.9946\n",
            "Epoch 19/30\n",
            "60000/60000 [==============================] - 9s 145us/step - loss: 0.0183 - acc: 0.9941 - val_loss: 0.0198 - val_acc: 0.9943\n",
            "Epoch 20/30\n",
            "60000/60000 [==============================] - 9s 146us/step - loss: 0.0190 - acc: 0.9939 - val_loss: 0.0211 - val_acc: 0.9944\n",
            "Epoch 21/30\n",
            "60000/60000 [==============================] - 9s 155us/step - loss: 0.0189 - acc: 0.9941 - val_loss: 0.0195 - val_acc: 0.9953\n",
            "Epoch 22/30\n",
            "60000/60000 [==============================] - 9s 145us/step - loss: 0.0192 - acc: 0.9941 - val_loss: 0.0198 - val_acc: 0.9949\n",
            "Epoch 23/30\n",
            "60000/60000 [==============================] - 9s 145us/step - loss: 0.0187 - acc: 0.9939 - val_loss: 0.0204 - val_acc: 0.9943\n",
            "Epoch 24/30\n",
            "60000/60000 [==============================] - 9s 157us/step - loss: 0.0181 - acc: 0.9945 - val_loss: 0.0219 - val_acc: 0.9935\n",
            "Epoch 25/30\n",
            "60000/60000 [==============================] - 9s 150us/step - loss: 0.0181 - acc: 0.9943 - val_loss: 0.0193 - val_acc: 0.9943\n",
            "Epoch 26/30\n",
            "60000/60000 [==============================] - 9s 146us/step - loss: 0.0174 - acc: 0.9942 - val_loss: 0.0214 - val_acc: 0.9938\n",
            "Epoch 27/30\n",
            "60000/60000 [==============================] - 9s 146us/step - loss: 0.0175 - acc: 0.9945 - val_loss: 0.0224 - val_acc: 0.9936\n",
            "Epoch 28/30\n",
            "60000/60000 [==============================] - 9s 146us/step - loss: 0.0183 - acc: 0.9940 - val_loss: 0.0216 - val_acc: 0.9948\n",
            "Epoch 29/30\n",
            "60000/60000 [==============================] - 9s 145us/step - loss: 0.0161 - acc: 0.9947 - val_loss: 0.0199 - val_acc: 0.9945\n",
            "Epoch 30/30\n",
            "60000/60000 [==============================] - 9s 145us/step - loss: 0.0178 - acc: 0.9938 - val_loss: 0.0229 - val_acc: 0.9940\n"
          ],
          "name": "stdout"
        },
        {
          "output_type": "execute_result",
          "data": {
            "text/plain": [
              "<keras.callbacks.History at 0x7fe731d41400>"
            ]
          },
          "metadata": {
            "tags": []
          },
          "execution_count": 59
        }
      ]
    },
    {
      "cell_type": "code",
      "metadata": {
        "id": "Dr_pjcKkOjBK",
        "colab_type": "code",
        "outputId": "93351bab-def2-451c-8ba8-29a65c85b0a5",
        "colab": {
          "base_uri": "https://localhost:8080/",
          "height": 34
        }
      },
      "source": [
        "# Comments:\n",
        "# 1. Evaluate the trained model on test dataset\n",
        "# 2. Print evaluated validation accuracy score.\n",
        "\n",
        "score = model.evaluate(X_test, Y_test, verbose=0)\n",
        "print(score)"
      ],
      "execution_count": 60,
      "outputs": [
        {
          "output_type": "stream",
          "text": [
            "[0.022872629069007236, 0.994]\n"
          ],
          "name": "stdout"
        }
      ]
    },
    {
      "cell_type": "code",
      "metadata": {
        "id": "XejVDhlSOwiv",
        "colab_type": "code",
        "colab": {}
      },
      "source": [
        "# Comments:\n",
        "# 1. Generate the predictions for the test dataset.\n",
        "# 2. These predictions are in 1-hot vector format\n",
        "#\n",
        "\n",
        "y_pred = model.predict(X_test)"
      ],
      "execution_count": 0,
      "outputs": []
    },
    {
      "cell_type": "code",
      "metadata": {
        "id": "P8Ax6ZblO03r",
        "colab_type": "code",
        "outputId": "f9ceb331-6393-4605-d0ca-488077742cb5",
        "colab": {
          "base_uri": "https://localhost:8080/",
          "height": 493
        }
      },
      "source": [
        "# Comments:\n",
        "# 1. Print the first 9 Predictions\n",
        "# 2. Only prediction for digit 4 are correct rest are wrong.\n",
        "# 3. Correct predictions for digit 4:\n",
        "#    [0.  0.  0.  0.  1.  0.  0.  0.  0.  0. ]\n",
        "#    [0.  0.  0.  0.  1.  0.  0.  0.  0.  0. ]\n",
        "#\n",
        "\n",
        "print(y_pred[:9])\n",
        "print(y_test[:9])"
      ],
      "execution_count": 0,
      "outputs": [
        {
          "output_type": "stream",
          "text": [
            "[[9.97321048e-25 2.72545078e-19 3.82780575e-17 4.27028367e-13\n",
            "  1.20464932e-21 3.53642290e-21 3.38389785e-38 1.00000000e+00\n",
            "  2.52554255e-16 9.41986442e-15]\n",
            " [1.83187220e-16 7.23960171e-12 1.00000000e+00 4.40836994e-23\n",
            "  4.33948279e-21 1.51402853e-26 1.25358396e-13 1.68033354e-17\n",
            "  6.75671723e-16 2.79559054e-27]\n",
            " [1.77510511e-16 1.00000000e+00 1.60574218e-13 5.00236493e-19\n",
            "  7.73630563e-13 2.69729161e-12 7.41907582e-16 7.60496605e-14\n",
            "  1.54298935e-11 2.87734789e-16]\n",
            " [1.00000000e+00 5.74051384e-27 2.98569457e-18 1.80067473e-15\n",
            "  1.09145165e-16 1.15624296e-15 4.73020512e-11 6.38265584e-15\n",
            "  1.36903038e-14 8.90192850e-11]\n",
            " [2.83428143e-18 1.64630914e-21 4.70326374e-21 7.23295224e-26\n",
            "  1.00000000e+00 2.56384215e-12 1.47979485e-14 6.90936599e-20\n",
            "  3.51728684e-16 4.07468681e-09]\n",
            " [2.76913227e-18 1.00000000e+00 1.61837471e-15 4.14958668e-21\n",
            "  7.92851299e-14 4.03389870e-15 1.96197762e-17 2.34753975e-13\n",
            "  5.66584843e-12 9.02531638e-18]\n",
            " [3.04004648e-24 5.06800734e-15 6.30410677e-16 1.43646234e-21\n",
            "  1.00000000e+00 1.91873535e-12 6.45712391e-24 3.07589058e-11\n",
            "  1.68629299e-09 2.34603031e-10]\n",
            " [7.45200531e-24 1.28149970e-16 5.68244566e-21 1.50706974e-16\n",
            "  3.23254834e-12 2.94684245e-15 1.85275743e-25 7.49279389e-17\n",
            "  7.64854957e-10 1.00000000e+00]\n",
            " [2.60295285e-13 1.43725592e-29 6.81089556e-18 5.88207355e-26\n",
            "  5.15724116e-18 9.99999523e-01 3.13086410e-08 4.93443124e-21\n",
            "  4.47847896e-07 7.83461261e-15]]\n",
            "[7 2 1 0 4 1 4 9 5]\n"
          ],
          "name": "stdout"
        }
      ]
    },
    {
      "cell_type": "code",
      "metadata": {
        "id": "7LHv6j3nO5fU",
        "colab_type": "code",
        "outputId": "c015551d-ea3b-401a-eb1b-c306d84d2d3e",
        "colab": {
          "base_uri": "https://localhost:8080/",
          "height": 54
        }
      },
      "source": [
        "# Comment\n",
        "# Create Layer dictionary\n",
        "\n",
        "layer_dict = dict([(layer.name, layer) for layer in model.layers])\n",
        "print(layer_dict)"
      ],
      "execution_count": 61,
      "outputs": [
        {
          "output_type": "stream",
          "text": [
            "{'conv2d_177': <keras.layers.convolutional.Conv2D object at 0x7fe734c1a518>, 'batch_normalization_158': <keras.layers.normalization.BatchNormalization object at 0x7fe734c1a5c0>, 'dropout_149': <keras.layers.core.Dropout object at 0x7fe736bcc0b8>, 'conv2d_178': <keras.layers.convolutional.Conv2D object at 0x7fe736bcc5f8>, 'batch_normalization_159': <keras.layers.normalization.BatchNormalization object at 0x7fe734c1a828>, 'dropout_150': <keras.layers.core.Dropout object at 0x7fe734af0198>, 'conv2d_179': <keras.layers.convolutional.Conv2D object at 0x7fe734b09358>, 'batch_normalization_160': <keras.layers.normalization.BatchNormalization object at 0x7fe734bf73c8>, 'dropout_151': <keras.layers.core.Dropout object at 0x7fe734a3b208>, 'max_pooling2d_19': <keras.layers.pooling.MaxPooling2D object at 0x7fe734905898>, 'conv2d_180': <keras.layers.convolutional.Conv2D object at 0x7fe734984ba8>, 'batch_normalization_161': <keras.layers.normalization.BatchNormalization object at 0x7fe734905978>, 'dropout_152': <keras.layers.core.Dropout object at 0x7fe7348030f0>, 'conv2d_181': <keras.layers.convolutional.Conv2D object at 0x7fe734803f28>, 'batch_normalization_162': <keras.layers.normalization.BatchNormalization object at 0x7fe7348390f0>, 'dropout_153': <keras.layers.core.Dropout object at 0x7fe7347864e0>, 'conv2d_182': <keras.layers.convolutional.Conv2D object at 0x7fe7347705c0>, 'batch_normalization_163': <keras.layers.normalization.BatchNormalization object at 0x7fe7348392b0>, 'dropout_154': <keras.layers.core.Dropout object at 0x7fe73460dc50>, 'conv2d_183': <keras.layers.convolutional.Conv2D object at 0x7fe734642898>, 'batch_normalization_164': <keras.layers.normalization.BatchNormalization object at 0x7fe734594b70>, 'dropout_155': <keras.layers.core.Dropout object at 0x7fe7344eff98>, 'conv2d_184': <keras.layers.convolutional.Conv2D object at 0x7fe734c7b160>, 'batch_normalization_165': <keras.layers.normalization.BatchNormalization object at 0x7fe7345946d8>, 'dropout_156': <keras.layers.core.Dropout object at 0x7fe7343d3ac8>, 'conv2d_185': <keras.layers.convolutional.Conv2D object at 0x7fe73443e630>, 'batch_normalization_166': <keras.layers.normalization.BatchNormalization object at 0x7fe734c68b38>, 'dropout_157': <keras.layers.core.Dropout object at 0x7fe73433e208>, 'conv2d_186': <keras.layers.convolutional.Conv2D object at 0x7fe73426f828>, 'flatten_19': <keras.layers.core.Flatten object at 0x7fe734238eb8>, 'activation_19': <keras.layers.core.Activation object at 0x7fe7341d9dd8>}\n"
          ],
          "name": "stdout"
        }
      ]
    },
    {
      "cell_type": "code",
      "metadata": {
        "id": "4KUoJGsdPG-u",
        "colab_type": "code",
        "outputId": "bcbb1ad3-7018-4ae0-dd8e-a4878fc8996e",
        "colab": {
          "base_uri": "https://localhost:8080/",
          "height": 741
        }
      },
      "source": [
        "# Comment\n",
        "# Visualize image in filter\n",
        "\n",
        "import numpy as np\n",
        "from matplotlib import pyplot as plt\n",
        "from keras import backend as K\n",
        "%matplotlib inline\n",
        "\n",
        "# util function to convert a tensor into a valid image\n",
        "def deprocess_image(x):\n",
        "    # normalize tensor: center on 0., ensure std is 0.1\n",
        "    x -= x.mean()\n",
        "    x /= (x.std() + 1e-5)\n",
        "    x *= 0.1\n",
        "\n",
        "    # clip to [0, 1]\n",
        "    x += 0.5\n",
        "    x = np.clip(x, 0, 1)\n",
        "\n",
        "    # convert to RGB array\n",
        "    x *= 255\n",
        "    #x = x.transpose((1, 2, 0))\n",
        "    x = np.clip(x, 0, 255).astype('uint8')\n",
        "    return x\n",
        "\n",
        "def vis_img_in_filter(img = np.array(X_train[2]).reshape((1, 28, 28, 1)).astype(np.float64), \n",
        "                      layer_name = 'conv2d_178'):\n",
        "    layer_output = layer_dict[layer_name].output\n",
        "    img_ascs = list()\n",
        "    for filter_index in range(layer_output.shape[3]):\n",
        "        # build a loss function that maximizes the activation\n",
        "        # of the nth filter of the layer considered\n",
        "        loss = K.mean(layer_output[:, :, :, filter_index])\n",
        "\n",
        "        # compute the gradient of the input picture wrt this loss\n",
        "        grads = K.gradients(loss, model.input)[0]\n",
        "\n",
        "        # normalization trick: we normalize the gradient\n",
        "        grads /= (K.sqrt(K.mean(K.square(grads))) + 1e-5)\n",
        "\n",
        "        # this function returns the loss and grads given the input picture\n",
        "        iterate = K.function([model.input], [loss, grads])\n",
        "\n",
        "        # step size for gradient ascent\n",
        "        step = 5.\n",
        "\n",
        "        img_asc = np.array(img)\n",
        "        # run gradient ascent for 20 steps\n",
        "        for i in range(20):\n",
        "            loss_value, grads_value = iterate([img_asc])\n",
        "            img_asc += grads_value * step\n",
        "\n",
        "        img_asc = img_asc[0]\n",
        "        img_ascs.append(deprocess_image(img_asc).reshape((28, 28)))\n",
        "        \n",
        "    if layer_output.shape[3] >= 35:\n",
        "        plot_x, plot_y = 6, 6\n",
        "    elif layer_output.shape[3] >= 23:\n",
        "        plot_x, plot_y = 4, 6\n",
        "    elif layer_output.shape[3] >= 11:\n",
        "        plot_x, plot_y = 2, 6\n",
        "    else:\n",
        "        plot_x, plot_y = 1, 2\n",
        "    fig, ax = plt.subplots(plot_x, plot_y, figsize = (12, 12))\n",
        "    ax[0, 0].imshow(img.reshape((28, 28)), cmap = 'gray')\n",
        "    ax[0, 0].set_title('Input image')\n",
        "    fig.suptitle('Input image and %s filters' % (layer_name,))\n",
        "    fig.tight_layout(pad = 0.3, rect = [0, 0, 0.9, 0.9])\n",
        "    for (x, y) in [(i, j) for i in range(plot_x) for j in range(plot_y)]:\n",
        "        if x == 0 and y == 0:\n",
        "            continue\n",
        "        ax[x, y].imshow(img_ascs[x * plot_y + y - 1], cmap = 'gray')\n",
        "        ax[x, y].set_title('filter %d' % (x * plot_y + y - 1))\n",
        "\n",
        "vis_img_in_filter()"
      ],
      "execution_count": 65,
      "outputs": [
        {
          "output_type": "display_data",
          "data": {
            "image/png": "[encoded data removed]",
            "text/plain": [
              "<Figure size 864x864 with 12 Axes>"
            ]
          },
          "metadata": {
            "tags": []
          }
        }
      ]
    }
  ]
}