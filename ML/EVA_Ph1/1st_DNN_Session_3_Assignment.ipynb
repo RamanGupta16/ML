{
  "nbformat": 4,
  "nbformat_minor": 0,
  "metadata": {
    "colab": {
      "name": "1st DNN Session 3 Assignment.ipynb",
      "version": "0.3.2",
      "provenance": [],
      "include_colab_link": true
    },
    "kernelspec": {
      "name": "python3",
      "display_name": "Python 3"
    },
    "accelerator": "GPU"
  },
  "cells": [
    {
      "cell_type": "markdown",
      "metadata": {
        "id": "view-in-github",
        "colab_type": "text"
      },
      "source": [
        "<a href=\"https://colab.research.google.com/github/RamanGupta16/ML/blob/master/ML/EVA_Ph1/1st_DNN_Session_3_Assignment.ipynb\" target=\"_parent\"><img src=\"https://colab.research.google.com/assets/colab-badge.svg\" alt=\"Open In Colab\"/></a>"
      ]
    },
    {
      "cell_type": "code",
      "metadata": {
        "id": "OyB6Xxhdj1Pn",
        "colab_type": "code",
        "colab": {
          "base_uri": "https://localhost:8080/",
          "height": 34
        },
        "outputId": "56ca18ff-ba4f-4229-c74f-70493fa34009"
      },
      "source": [
        "# Comments:\n",
        "# 1. Install keras onto colab VM \n",
        "#\n",
        "\n",
        "# https://keras.io/\n",
        "!pip install -q keras\n",
        "import keras"
      ],
      "execution_count": 1,
      "outputs": [
        {
          "output_type": "stream",
          "text": [
            "Using TensorFlow backend.\n"
          ],
          "name": "stderr"
        }
      ]
    },
    {
      "cell_type": "code",
      "metadata": {
        "id": "pzF1pJfWkDyj",
        "colab_type": "code",
        "colab": {}
      },
      "source": [
        "# Comments:\n",
        "# 1. Import numpy package\n",
        "# 2. Import keras models, layers, convolution, dropout\n",
        "# 3. Import MNIST dataset\n",
        "#\n",
        "\n",
        "import numpy as np\n",
        "\n",
        "from keras.models import Sequential\n",
        "from keras.layers import Dense, Dropout, Activation, Flatten, Add\n",
        "from keras.layers import Convolution2D, MaxPooling2D\n",
        "from keras.utils import np_utils\n",
        "\n",
        "from keras.datasets import mnist"
      ],
      "execution_count": 0,
      "outputs": []
    },
    {
      "cell_type": "code",
      "metadata": {
        "id": "pncLjzv1kb5f",
        "colab_type": "code",
        "colab": {
          "base_uri": "https://localhost:8080/",
          "height": 51
        },
        "outputId": "9d1a90fa-d557-4c16-c91f-52795abde1a0"
      },
      "source": [
        "# Comments:\n",
        "# 1. Load MNIST dataset. It loads both Training and Test datasets\n",
        "# 2. Training set has 60,000 image samples. X_train are images and y_train is label of images\n",
        "# 3. Test set of 10,000 image samples. y_test are images and y_train is label of images\n",
        "# \n",
        "\n",
        "(X_train, y_train), (X_test, y_test) = mnist.load_data()"
      ],
      "execution_count": 3,
      "outputs": [
        {
          "output_type": "stream",
          "text": [
            "Downloading data from https://s3.amazonaws.com/img-datasets/mnist.npz\n",
            "11493376/11490434 [==============================] - 0s 0us/step\n"
          ],
          "name": "stdout"
        }
      ]
    },
    {
      "cell_type": "code",
      "metadata": {
        "id": "WF72ZZjpkoK7",
        "colab_type": "code",
        "colab": {
          "base_uri": "https://localhost:8080/",
          "height": 303
        },
        "outputId": "c13cc79f-d77d-401b-9ad5-d94166f839aa"
      },
      "source": [
        "# Comments:\n",
        "# 1. Training set has 60,000 image samples of size 28x28 pixels\n",
        "# 2. Show '5' hand written digit image\n",
        "#\n",
        "\n",
        "print (X_train.shape)\n",
        "from matplotlib import pyplot as plt\n",
        "%matplotlib inline\n",
        "plt.imshow(X_train[0])"
      ],
      "execution_count": 4,
      "outputs": [
        {
          "output_type": "stream",
          "text": [
            "(60000, 28, 28)\n"
          ],
          "name": "stdout"
        },
        {
          "output_type": "execute_result",
          "data": {
            "text/plain": [
              "<matplotlib.image.AxesImage at 0x7f9785830cc0>"
            ]
          },
          "metadata": {
            "tags": []
          },
          "execution_count": 4
        },
        {
          "output_type": "display_data",
          "data": {
            "image/png": "[encoded data removed]",
            "text/plain": [
              "<Figure size 432x288 with 1 Axes>"
            ]
          },
          "metadata": {
            "tags": []
          }
        }
      ]
    },
    {
      "cell_type": "code",
      "metadata": {
        "id": "oSgzrXqQk_Yq",
        "colab_type": "code",
        "colab": {}
      },
      "source": [
        "# Comments:\n",
        "# 1. Reshape the 60,000 training data with channel dimenison as 1. So each image is 28x28x1 dimension\n",
        "# 2. Reshape the 10,000 test data with channel dimenison as 1. So each image is 28x28x1 dimension\n",
        "#\n",
        "\n",
        "X_train = X_train.reshape(X_train.shape[0], 28, 28,1)\n",
        "X_test = X_test.reshape(X_test.shape[0], 28, 28,1)"
      ],
      "execution_count": 0,
      "outputs": []
    },
    {
      "cell_type": "code",
      "metadata": {
        "id": "A63RQu7GlORw",
        "colab_type": "code",
        "colab": {}
      },
      "source": [
        "# Comments:\n",
        "# 1. Divide training data by 255 so that pixels become float values betwee 0..1\n",
        "# 2. Divide test data by 255 so that pixels become float values betwee 0..1\n",
        "#\n",
        "\n",
        "X_train = X_train.astype('float32')\n",
        "X_test = X_test.astype('float32')\n",
        "X_train /= 255\n",
        "X_test /= 255"
      ],
      "execution_count": 0,
      "outputs": []
    },
    {
      "cell_type": "code",
      "metadata": {
        "id": "Rcbh2lSGlaix",
        "colab_type": "code",
        "colab": {
          "base_uri": "https://localhost:8080/",
          "height": 34
        },
        "outputId": "dbf06c66-c0bb-4522-9ace-b7fbaa5d8b27"
      },
      "source": [
        "# Comments:\n",
        "# 1. Print the first 10 labels of training data\n",
        "#\n",
        "y_train[:10]"
      ],
      "execution_count": 8,
      "outputs": [
        {
          "output_type": "execute_result",
          "data": {
            "text/plain": [
              "array([5, 0, 4, 1, 9, 2, 1, 3, 1, 4], dtype=uint8)"
            ]
          },
          "metadata": {
            "tags": []
          },
          "execution_count": 8
        }
      ]
    },
    {
      "cell_type": "code",
      "metadata": {
        "id": "APneKcuBle2L",
        "colab_type": "code",
        "colab": {}
      },
      "source": [
        "# Comments:\n",
        "# 1. Convert 1-dimensional train and test labels into one-hot vector of floats\n",
        "#    where only 1 value in vector is high(hot) indicating the label of image.\n",
        "#    Eaxmple [0., 0., 0., 0., 0., 1., 0., 0., 0., 0.] ==> 5\n",
        "\n",
        "# Convert 1-dimensional class arrays to 10-dimensional class matrices\n",
        "Y_train = np_utils.to_categorical(y_train, 10)\n",
        "Y_test = np_utils.to_categorical(y_test, 10)"
      ],
      "execution_count": 0,
      "outputs": []
    },
    {
      "cell_type": "code",
      "metadata": {
        "id": "byH_F_w_mkP5",
        "colab_type": "code",
        "colab": {
          "base_uri": "https://localhost:8080/",
          "height": 187
        },
        "outputId": "f418c02f-aa99-429f-afdf-4143a4d69989"
      },
      "source": [
        "# Comments:\n",
        "# 1. Print the first 10 training label as one-hot vectors.\n",
        "#    Eaxmple [0., 0., 0., 0., 0., 1., 0., 0., 0., 0.] ==> 5\n",
        "\n",
        "Y_train[:10]"
      ],
      "execution_count": 10,
      "outputs": [
        {
          "output_type": "execute_result",
          "data": {
            "text/plain": [
              "array([[0., 0., 0., 0., 0., 1., 0., 0., 0., 0.],\n",
              "       [1., 0., 0., 0., 0., 0., 0., 0., 0., 0.],\n",
              "       [0., 0., 0., 0., 1., 0., 0., 0., 0., 0.],\n",
              "       [0., 1., 0., 0., 0., 0., 0., 0., 0., 0.],\n",
              "       [0., 0., 0., 0., 0., 0., 0., 0., 0., 1.],\n",
              "       [0., 0., 1., 0., 0., 0., 0., 0., 0., 0.],\n",
              "       [0., 1., 0., 0., 0., 0., 0., 0., 0., 0.],\n",
              "       [0., 0., 0., 1., 0., 0., 0., 0., 0., 0.],\n",
              "       [0., 1., 0., 0., 0., 0., 0., 0., 0., 0.],\n",
              "       [0., 0., 0., 0., 1., 0., 0., 0., 0., 0.]], dtype=float32)"
            ]
          },
          "metadata": {
            "tags": []
          },
          "execution_count": 10
        }
      ]
    },
    {
      "cell_type": "code",
      "metadata": {
        "id": "8IcBwNRenE-X",
        "colab_type": "code",
        "colab": {
          "base_uri": "https://localhost:8080/",
          "height": 700
        },
        "outputId": "46779715-c2a8-4ac1-f578-4c1b6a7e0c43"
      },
      "source": [
        "# Comments:\n",
        "# 1. Create the model\n",
        "# 2. Add convolution Layers\n",
        "\n",
        "from keras.layers import Activation\n",
        "model = Sequential()\n",
        "\n",
        "# 28x28x1 (3x3x1),16 ==> 26x26x16  RF 3x3 \n",
        "model.add(Convolution2D(16, 3, 3, activation='relu', input_shape=(28,28,1)))\n",
        "\n",
        "# 26x26x16 (3x3x16),32 ==> 24x24x32  RF 5x5\n",
        "model.add(Convolution2D(32, 3, 3, activation='relu'))\n",
        "\n",
        "# 24x24x32 (2x2 MaxPool) ==> 12x12x32  RF 10x10\n",
        "model.add(MaxPooling2D(pool_size=(2, 2)))\n",
        "\n",
        "# 12x12x32 (1x1x32), 16 ==> 12x12x16 RF 10x10 \n",
        "model.add(Convolution2D(16, 1, 1, activation='relu'))\n",
        "\n",
        "# 12x12x16  (3x3x16), 32 ==> 10x10x32  RF 12x12\n",
        "model.add(Convolution2D(32, 3, 3, activation='relu'))\n",
        "\n",
        "# 10x10x32 (2x2 MaxPool) ==> 5x5x32 RF 24x24\n",
        "model.add(MaxPooling2D(pool_size=(2, 2)))\n",
        "\n",
        "# 5x5x32 (1x1x32), 16 ==> 5x5x16  RF 24x24 \n",
        "model.add(Convolution2D(16, 1, 1, activation='relu'))\n",
        "\n",
        "# 5x5x16 (3x3x16), 32 ==> 3x3x32 RF 26x26\n",
        "model.add(Convolution2D(32, 3, 3, activation='relu'))\n",
        "\n",
        "# 3x3x32 (3x3x32), 10 ==> 1x1x10 RF 28x28\n",
        "model.add(Convolution2D(10, 3, 3))\n",
        "\n",
        "model.add(Flatten())\n",
        "model.add(Activation('softmax'))\n",
        "\n",
        "# Summarize the model\n",
        "model.summary()"
      ],
      "execution_count": 56,
      "outputs": [
        {
          "output_type": "stream",
          "text": [
            "_________________________________________________________________\n",
            "Layer (type)                 Output Shape              Param #   \n",
            "=================================================================\n",
            "conv2d_119 (Conv2D)          (None, 26, 26, 16)        160       \n",
            "_________________________________________________________________\n",
            "conv2d_120 (Conv2D)          (None, 24, 24, 32)        4640      \n",
            "_________________________________________________________________\n",
            "max_pooling2d_37 (MaxPooling (None, 12, 12, 32)        0         \n",
            "_________________________________________________________________\n",
            "conv2d_121 (Conv2D)          (None, 12, 12, 16)        528       \n",
            "_________________________________________________________________\n",
            "conv2d_122 (Conv2D)          (None, 10, 10, 32)        4640      \n",
            "_________________________________________________________________\n",
            "max_pooling2d_38 (MaxPooling (None, 5, 5, 32)          0         \n",
            "_________________________________________________________________\n",
            "conv2d_123 (Conv2D)          (None, 5, 5, 16)          528       \n",
            "_________________________________________________________________\n",
            "conv2d_124 (Conv2D)          (None, 3, 3, 32)          4640      \n",
            "_________________________________________________________________\n",
            "conv2d_125 (Conv2D)          (None, 1, 1, 10)          2890      \n",
            "_________________________________________________________________\n",
            "flatten_16 (Flatten)         (None, 10)                0         \n",
            "_________________________________________________________________\n",
            "activation_16 (Activation)   (None, 10)                0         \n",
            "=================================================================\n",
            "Total params: 18,026\n",
            "Trainable params: 18,026\n",
            "Non-trainable params: 0\n",
            "_________________________________________________________________\n"
          ],
          "name": "stdout"
        },
        {
          "output_type": "stream",
          "text": [
            "/usr/local/lib/python3.6/dist-packages/ipykernel_launcher.py:6: UserWarning: Update your `Conv2D` call to the Keras 2 API: `Conv2D(16, (3, 3), activation=\"relu\", input_shape=(28, 28, 1...)`\n",
            "  \n",
            "/usr/local/lib/python3.6/dist-packages/ipykernel_launcher.py:9: UserWarning: Update your `Conv2D` call to the Keras 2 API: `Conv2D(32, (3, 3), activation=\"relu\")`\n",
            "  if __name__ == '__main__':\n",
            "/usr/local/lib/python3.6/dist-packages/ipykernel_launcher.py:14: UserWarning: Update your `Conv2D` call to the Keras 2 API: `Conv2D(16, (1, 1), activation=\"relu\")`\n",
            "  \n",
            "/usr/local/lib/python3.6/dist-packages/ipykernel_launcher.py:17: UserWarning: Update your `Conv2D` call to the Keras 2 API: `Conv2D(32, (3, 3), activation=\"relu\")`\n",
            "/usr/local/lib/python3.6/dist-packages/ipykernel_launcher.py:23: UserWarning: Update your `Conv2D` call to the Keras 2 API: `Conv2D(16, (1, 1), activation=\"relu\")`\n",
            "/usr/local/lib/python3.6/dist-packages/ipykernel_launcher.py:26: UserWarning: Update your `Conv2D` call to the Keras 2 API: `Conv2D(32, (3, 3), activation=\"relu\")`\n",
            "/usr/local/lib/python3.6/dist-packages/ipykernel_launcher.py:29: UserWarning: Update your `Conv2D` call to the Keras 2 API: `Conv2D(10, (3, 3))`\n"
          ],
          "name": "stderr"
        }
      ]
    },
    {
      "cell_type": "code",
      "metadata": {
        "id": "2ViEgB1kOTfI",
        "colab_type": "code",
        "colab": {}
      },
      "source": [
        "# Comment\n",
        "# 1. Compile the model and define loss function, optimization and metrics to measure the prediction\n",
        "\n",
        "model.compile(loss='categorical_crossentropy',\n",
        "             optimizer='adam',\n",
        "             metrics=['accuracy'])"
      ],
      "execution_count": 0,
      "outputs": []
    },
    {
      "cell_type": "code",
      "metadata": {
        "id": "NY4GoY8UOenr",
        "colab_type": "code",
        "colab": {
          "base_uri": "https://localhost:8080/",
          "height": 748
        },
        "outputId": "677354ae-83e1-4b5a-e939-95c038c84872"
      },
      "source": [
        "# Comments:\n",
        "# 1. Train the model for 10 epochs with 32 batch size\n",
        "\n",
        "model.fit(X_train, Y_train, batch_size=32, nb_epoch=20, verbose=1)"
      ],
      "execution_count": 59,
      "outputs": [
        {
          "output_type": "stream",
          "text": [
            "/usr/local/lib/python3.6/dist-packages/ipykernel_launcher.py:2: UserWarning: The `nb_epoch` argument in `fit` has been renamed `epochs`.\n",
            "  \n"
          ],
          "name": "stderr"
        },
        {
          "output_type": "stream",
          "text": [
            "Epoch 1/20\n",
            "60000/60000 [==============================] - 11s 179us/step - loss: 0.1806 - acc: 0.9439\n",
            "Epoch 2/20\n",
            "60000/60000 [==============================] - 10s 163us/step - loss: 0.0603 - acc: 0.9813\n",
            "Epoch 3/20\n",
            "60000/60000 [==============================] - 10s 162us/step - loss: 0.0443 - acc: 0.9862\n",
            "Epoch 4/20\n",
            "60000/60000 [==============================] - 10s 162us/step - loss: 0.0352 - acc: 0.9892\n",
            "Epoch 5/20\n",
            "60000/60000 [==============================] - 10s 162us/step - loss: 0.0309 - acc: 0.9901\n",
            "Epoch 6/20\n",
            "60000/60000 [==============================] - 10s 162us/step - loss: 0.0260 - acc: 0.9915\n",
            "Epoch 7/20\n",
            "60000/60000 [==============================] - 10s 162us/step - loss: 0.0225 - acc: 0.9928\n",
            "Epoch 8/20\n",
            "60000/60000 [==============================] - 11s 183us/step - loss: 0.0215 - acc: 0.9924\n",
            "Epoch 9/20\n",
            "60000/60000 [==============================] - 10s 162us/step - loss: 0.0176 - acc: 0.9943\n",
            "Epoch 10/20\n",
            "60000/60000 [==============================] - 10s 161us/step - loss: 0.0160 - acc: 0.9948\n",
            "Epoch 11/20\n",
            "60000/60000 [==============================] - 10s 161us/step - loss: 0.0145 - acc: 0.9951\n",
            "Epoch 12/20\n",
            "60000/60000 [==============================] - 10s 169us/step - loss: 0.0132 - acc: 0.9956\n",
            "Epoch 13/20\n",
            "60000/60000 [==============================] - 11s 185us/step - loss: 0.0125 - acc: 0.9958\n",
            "Epoch 14/20\n",
            "60000/60000 [==============================] - 10s 162us/step - loss: 0.0113 - acc: 0.9963\n",
            "Epoch 15/20\n",
            "60000/60000 [==============================] - 10s 162us/step - loss: 0.0108 - acc: 0.9960\n",
            "Epoch 16/20\n",
            "60000/60000 [==============================] - 11s 183us/step - loss: 0.0089 - acc: 0.9970\n",
            "Epoch 17/20\n",
            "60000/60000 [==============================] - 10s 161us/step - loss: 0.0109 - acc: 0.9962\n",
            "Epoch 18/20\n",
            "60000/60000 [==============================] - 10s 161us/step - loss: 0.0082 - acc: 0.9972\n",
            "Epoch 19/20\n",
            "60000/60000 [==============================] - 10s 161us/step - loss: 0.0095 - acc: 0.9969\n",
            "Epoch 20/20\n",
            "60000/60000 [==============================] - 10s 161us/step - loss: 0.0071 - acc: 0.9976\n"
          ],
          "name": "stdout"
        },
        {
          "output_type": "execute_result",
          "data": {
            "text/plain": [
              "<keras.callbacks.History at 0x7f973f0d6ef0>"
            ]
          },
          "metadata": {
            "tags": []
          },
          "execution_count": 59
        }
      ]
    },
    {
      "cell_type": "code",
      "metadata": {
        "id": "Dr_pjcKkOjBK",
        "colab_type": "code",
        "colab": {
          "base_uri": "https://localhost:8080/",
          "height": 34
        },
        "outputId": "7eb863db-b0e6-4a04-d61c-f3e9b47d53d6"
      },
      "source": [
        "# Comments:\n",
        "# 1. Evaluate the trained model on test dataset\n",
        "# 2. Print evaluated score. Accuracy is 99.6%\n",
        "\n",
        "score = model.evaluate(X_test, Y_test, verbose=0)\n",
        "print(score)"
      ],
      "execution_count": 60,
      "outputs": [
        {
          "output_type": "stream",
          "text": [
            "[0.03710068267736988, 0.9932]\n"
          ],
          "name": "stdout"
        }
      ]
    },
    {
      "cell_type": "code",
      "metadata": {
        "id": "XejVDhlSOwiv",
        "colab_type": "code",
        "colab": {}
      },
      "source": [
        "# Comments:\n",
        "# 1. Generate the predictions for the test dataset.\n",
        "# 2. These predictions are in 1-hot vector format\n",
        "#\n",
        "\n",
        "y_pred = model.predict(X_test)"
      ],
      "execution_count": 0,
      "outputs": []
    },
    {
      "cell_type": "code",
      "metadata": {
        "id": "P8Ax6ZblO03r",
        "colab_type": "code",
        "colab": {
          "base_uri": "https://localhost:8080/",
          "height": 493
        },
        "outputId": "f9ceb331-6393-4605-d0ca-488077742cb5"
      },
      "source": [
        "# Comments:\n",
        "# 1. Print the first 9 Predictions\n",
        "# 2. Only prediction for digit 4 are correct rest are wrong.\n",
        "# 3. Correct predictions for digit 4:\n",
        "#    [0.  0.  0.  0.  1.  0.  0.  0.  0.  0. ]\n",
        "#    [0.  0.  0.  0.  1.  0.  0.  0.  0.  0. ]\n",
        "#\n",
        "\n",
        "print(y_pred[:9])\n",
        "print(y_test[:9])"
      ],
      "execution_count": 62,
      "outputs": [
        {
          "output_type": "stream",
          "text": [
            "[[9.97321048e-25 2.72545078e-19 3.82780575e-17 4.27028367e-13\n",
            "  1.20464932e-21 3.53642290e-21 3.38389785e-38 1.00000000e+00\n",
            "  2.52554255e-16 9.41986442e-15]\n",
            " [1.83187220e-16 7.23960171e-12 1.00000000e+00 4.40836994e-23\n",
            "  4.33948279e-21 1.51402853e-26 1.25358396e-13 1.68033354e-17\n",
            "  6.75671723e-16 2.79559054e-27]\n",
            " [1.77510511e-16 1.00000000e+00 1.60574218e-13 5.00236493e-19\n",
            "  7.73630563e-13 2.69729161e-12 7.41907582e-16 7.60496605e-14\n",
            "  1.54298935e-11 2.87734789e-16]\n",
            " [1.00000000e+00 5.74051384e-27 2.98569457e-18 1.80067473e-15\n",
            "  1.09145165e-16 1.15624296e-15 4.73020512e-11 6.38265584e-15\n",
            "  1.36903038e-14 8.90192850e-11]\n",
            " [2.83428143e-18 1.64630914e-21 4.70326374e-21 7.23295224e-26\n",
            "  1.00000000e+00 2.56384215e-12 1.47979485e-14 6.90936599e-20\n",
            "  3.51728684e-16 4.07468681e-09]\n",
            " [2.76913227e-18 1.00000000e+00 1.61837471e-15 4.14958668e-21\n",
            "  7.92851299e-14 4.03389870e-15 1.96197762e-17 2.34753975e-13\n",
            "  5.66584843e-12 9.02531638e-18]\n",
            " [3.04004648e-24 5.06800734e-15 6.30410677e-16 1.43646234e-21\n",
            "  1.00000000e+00 1.91873535e-12 6.45712391e-24 3.07589058e-11\n",
            "  1.68629299e-09 2.34603031e-10]\n",
            " [7.45200531e-24 1.28149970e-16 5.68244566e-21 1.50706974e-16\n",
            "  3.23254834e-12 2.94684245e-15 1.85275743e-25 7.49279389e-17\n",
            "  7.64854957e-10 1.00000000e+00]\n",
            " [2.60295285e-13 1.43725592e-29 6.81089556e-18 5.88207355e-26\n",
            "  5.15724116e-18 9.99999523e-01 3.13086410e-08 4.93443124e-21\n",
            "  4.47847896e-07 7.83461261e-15]]\n",
            "[7 2 1 0 4 1 4 9 5]\n"
          ],
          "name": "stdout"
        }
      ]
    },
    {
      "cell_type": "code",
      "metadata": {
        "id": "7LHv6j3nO5fU",
        "colab_type": "code",
        "colab": {
          "base_uri": "https://localhost:8080/",
          "height": 54
        },
        "outputId": "377b0acc-818b-419b-f441-5bfb2dfa9b4c"
      },
      "source": [
        "# Comment\n",
        "# Create Layer dictionary\n",
        "\n",
        "layer_dict = dict([(layer.name, layer) for layer in model.layers])\n",
        "print(layer_dict)"
      ],
      "execution_count": 66,
      "outputs": [
        {
          "output_type": "stream",
          "text": [
            "{'conv2d_119': <keras.layers.convolutional.Conv2D object at 0x7f973ef447b8>, 'conv2d_120': <keras.layers.convolutional.Conv2D object at 0x7f973ef447f0>, 'max_pooling2d_37': <keras.layers.pooling.MaxPooling2D object at 0x7f973ef73940>, 'conv2d_121': <keras.layers.convolutional.Conv2D object at 0x7f973ef622b0>, 'conv2d_122': <keras.layers.convolutional.Conv2D object at 0x7f973ef62048>, 'max_pooling2d_38': <keras.layers.pooling.MaxPooling2D object at 0x7f973ef39ba8>, 'conv2d_123': <keras.layers.convolutional.Conv2D object at 0x7f973ef0e978>, 'conv2d_124': <keras.layers.convolutional.Conv2D object at 0x7f973ef39160>, 'conv2d_125': <keras.layers.convolutional.Conv2D object at 0x7f973eed2ac8>, 'flatten_16': <keras.layers.core.Flatten object at 0x7f973eefce48>, 'activation_16': <keras.layers.core.Activation object at 0x7f973eefc780>}\n"
          ],
          "name": "stdout"
        }
      ]
    },
    {
      "cell_type": "code",
      "metadata": {
        "id": "4KUoJGsdPG-u",
        "colab_type": "code",
        "colab": {
          "base_uri": "https://localhost:8080/",
          "height": 741
        },
        "outputId": "7c118345-8914-472e-c695-08e2dc04a923"
      },
      "source": [
        "# Comment\n",
        "# Visualize image in filter\n",
        "\n",
        "import numpy as np\n",
        "from matplotlib import pyplot as plt\n",
        "from keras import backend as K\n",
        "%matplotlib inline\n",
        "\n",
        "# util function to convert a tensor into a valid image\n",
        "def deprocess_image(x):\n",
        "    # normalize tensor: center on 0., ensure std is 0.1\n",
        "    x -= x.mean()\n",
        "    x /= (x.std() + 1e-5)\n",
        "    x *= 0.1\n",
        "\n",
        "    # clip to [0, 1]\n",
        "    x += 0.5\n",
        "    x = np.clip(x, 0, 1)\n",
        "\n",
        "    # convert to RGB array\n",
        "    x *= 255\n",
        "    #x = x.transpose((1, 2, 0))\n",
        "    x = np.clip(x, 0, 255).astype('uint8')\n",
        "    return x\n",
        "\n",
        "def vis_img_in_filter(img = np.array(X_train[2]).reshape((1, 28, 28, 1)).astype(np.float64), \n",
        "                      layer_name = 'conv2d_119'):\n",
        "    layer_output = layer_dict[layer_name].output\n",
        "    img_ascs = list()\n",
        "    for filter_index in range(layer_output.shape[3]):\n",
        "        # build a loss function that maximizes the activation\n",
        "        # of the nth filter of the layer considered\n",
        "        loss = K.mean(layer_output[:, :, :, filter_index])\n",
        "\n",
        "        # compute the gradient of the input picture wrt this loss\n",
        "        grads = K.gradients(loss, model.input)[0]\n",
        "\n",
        "        # normalization trick: we normalize the gradient\n",
        "        grads /= (K.sqrt(K.mean(K.square(grads))) + 1e-5)\n",
        "\n",
        "        # this function returns the loss and grads given the input picture\n",
        "        iterate = K.function([model.input], [loss, grads])\n",
        "\n",
        "        # step size for gradient ascent\n",
        "        step = 5.\n",
        "\n",
        "        img_asc = np.array(img)\n",
        "        # run gradient ascent for 20 steps\n",
        "        for i in range(20):\n",
        "            loss_value, grads_value = iterate([img_asc])\n",
        "            img_asc += grads_value * step\n",
        "\n",
        "        img_asc = img_asc[0]\n",
        "        img_ascs.append(deprocess_image(img_asc).reshape((28, 28)))\n",
        "        \n",
        "    if layer_output.shape[3] >= 35:\n",
        "        plot_x, plot_y = 6, 6\n",
        "    elif layer_output.shape[3] >= 23:\n",
        "        plot_x, plot_y = 4, 6\n",
        "    elif layer_output.shape[3] >= 11:\n",
        "        plot_x, plot_y = 2, 6\n",
        "    else:\n",
        "        plot_x, plot_y = 1, 2\n",
        "    fig, ax = plt.subplots(plot_x, plot_y, figsize = (12, 12))\n",
        "    ax[0, 0].imshow(img.reshape((28, 28)), cmap = 'gray')\n",
        "    ax[0, 0].set_title('Input image')\n",
        "    fig.suptitle('Input image and %s filters' % (layer_name,))\n",
        "    fig.tight_layout(pad = 0.3, rect = [0, 0, 0.9, 0.9])\n",
        "    for (x, y) in [(i, j) for i in range(plot_x) for j in range(plot_y)]:\n",
        "        if x == 0 and y == 0:\n",
        "            continue\n",
        "        ax[x, y].imshow(img_ascs[x * plot_y + y - 1], cmap = 'gray')\n",
        "        ax[x, y].set_title('filter %d' % (x * plot_y + y - 1))\n",
        "\n",
        "vis_img_in_filter()"
      ],
      "execution_count": 67,
      "outputs": [
        {
          "output_type": "display_data",
          "data": {
            "image/png": "[encoded data removed]",
            "text/plain": [
              "<Figure size 864x864 with 12 Axes>"
            ]
          },
          "metadata": {
            "tags": []
          }
        }
      ]
    }
  ]
}